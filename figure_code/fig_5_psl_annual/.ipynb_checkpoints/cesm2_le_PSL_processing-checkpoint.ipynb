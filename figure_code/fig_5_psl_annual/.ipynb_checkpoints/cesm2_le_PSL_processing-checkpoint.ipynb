{
 "cells": [
  {
   "cell_type": "markdown",
   "metadata": {
    "tags": []
   },
   "source": [
    "# Calculate vertical ensemble mean on regular pressure levels \n",
    "CESM2-LE ONLY\n",
    "\n",
    "* **Description**: Reads in and creates seasonal and ensemble means and vertically interpolates\n",
    "* **Input data**: CESM2-LE output in timeseries format from intake-esm\n",
    "* **Output data**: Netcdf file with output\n",
    "* **Creator**: Alice DuVivier\n",
    "* **Date**: March 2022"
   ]
  },
  {
   "cell_type": "code",
   "execution_count": 1,
   "metadata": {},
   "outputs": [
    {
     "name": "stderr",
     "output_type": "stream",
     "text": [
      "/glade/work/duvivier/miniconda3/envs/analysis3/lib/python3.7/site-packages/dask_jobqueue/core.py:20: FutureWarning: tmpfile is deprecated and will be removed in a future release. Please use dask.utils.tmpfile instead.\n",
      "  from distributed.utils import tmpfile\n"
     ]
    }
   ],
   "source": [
    "import xarray as xr\n",
    "import numpy as np\n",
    "from datetime import timedelta\n",
    "import glob\n",
    "\n",
    "import pop_tools\n",
    "\n",
    "import matplotlib.pyplot as plt\n",
    "import matplotlib.path as mpath\n",
    "from matplotlib.gridspec import GridSpec\n",
    "\n",
    "import geocat.datafiles as gdf\n",
    "import geocat.viz.util as gvutil\n",
    "from geocat.viz import cmaps as gvcmaps\n",
    "import geocat.comp as gcomp\n",
    "\n",
    "import cartopy.crs as ccrs\n",
    "import cartopy.feature as cfeature\n",
    "from scipy.stats import linregress,pearsonr, t\n",
    "\n",
    "import dask\n",
    "import intake\n",
    "from distributed import Client\n",
    "from ncar_jobqueue import NCARCluster"
   ]
  },
  {
   "cell_type": "code",
   "execution_count": 2,
   "metadata": {},
   "outputs": [
    {
     "name": "stderr",
     "output_type": "stream",
     "text": [
      "/glade/work/duvivier/miniconda3/envs/analysis3/lib/python3.7/site-packages/distributed/node.py:161: UserWarning: Port 8787 is already in use.\n",
      "Perhaps you already have a cluster running?\n",
      "Hosting the HTTP server on port 44867 instead\n",
      "  f\"Port {expected} is already in use.\\n\"\n"
     ]
    }
   ],
   "source": [
    "# spin up dask cluster\n",
    "\n",
    "import dask\n",
    "\n",
    "# Use dask jobqueue\n",
    "from dask_jobqueue import PBSCluster\n",
    "\n",
    "# Import a client\n",
    "from dask.distributed import Client\n",
    "\n",
    "# Setup your PBSCluster\n",
    "cluster = PBSCluster(\n",
    "    cores=36, # The number of cores you want\n",
    "    memory='300 GB', # Amount of memory\n",
    "    processes=9, # How many processes\n",
    "    queue='casper', # The type of queue to utilize (/glade/u/apps/dav/opt/usr/bin/execcasper)\n",
    "    local_directory='$TMPDIR', # Use your local directory\n",
    "    resource_spec='select=1:ncpus=36:mem=300GB', # Specify resources\n",
    "    project='P93300665', # Input your project ID here\n",
    "    walltime='06:00:00', # Amount of wall time\n",
    "    interface='ib0', # Interface to use\n",
    ")\n",
    "# Scale up\n",
    "cluster.scale(jobs=8)\n",
    "\n",
    "# Change your url to the dask dashboard so you can see it\n",
    "dask.config.set({'distributed.dashboard.link':'https://jupyterhub.hpc.ucar.edu/stable/user/{USER}/proxy/{port}/status'})\n",
    "\n",
    "# Setup your client\n",
    "client = Client(cluster)"
   ]
  },
  {
   "cell_type": "code",
   "execution_count": 3,
   "metadata": {},
   "outputs": [
    {
     "data": {
      "text/html": [
       "<div>\n",
       "    <div style=\"width: 24px; height: 24px; background-color: #e1e1e1; border: 3px solid #9D9D9D; border-radius: 5px; position: absolute;\"> </div>\n",
       "    <div style=\"margin-left: 48px;\">\n",
       "        <h3 style=\"margin-bottom: 0px;\">Client</h3>\n",
       "        <p style=\"color: #9D9D9D; margin-bottom: 0px;\">Client-a8e80dd0-abf3-11ed-a1fe-3cecef1b126e</p>\n",
       "        <table style=\"width: 100%; text-align: left;\">\n",
       "\n",
       "        <tr>\n",
       "        \n",
       "            <td style=\"text-align: left;\"><strong>Connection method:</strong> Cluster object</td>\n",
       "            <td style=\"text-align: left;\"><strong>Cluster type:</strong> dask_jobqueue.PBSCluster</td>\n",
       "        \n",
       "        </tr>\n",
       "\n",
       "        \n",
       "            <tr>\n",
       "                <td style=\"text-align: left;\">\n",
       "                    <strong>Dashboard: </strong> <a href=\"https://jupyterhub.hpc.ucar.edu/stable/user/duvivier/proxy/44867/status\" target=\"_blank\">https://jupyterhub.hpc.ucar.edu/stable/user/duvivier/proxy/44867/status</a>\n",
       "                </td>\n",
       "                <td style=\"text-align: left;\"></td>\n",
       "            </tr>\n",
       "        \n",
       "\n",
       "        </table>\n",
       "\n",
       "        \n",
       "            <details>\n",
       "            <summary style=\"margin-bottom: 20px;\"><h3 style=\"display: inline;\">Cluster Info</h3></summary>\n",
       "            <div class=\"jp-RenderedHTMLCommon jp-RenderedHTML jp-mod-trusted jp-OutputArea-output\">\n",
       "    <div style=\"width: 24px; height: 24px; background-color: #e1e1e1; border: 3px solid #9D9D9D; border-radius: 5px; position: absolute;\">\n",
       "    </div>\n",
       "    <div style=\"margin-left: 48px;\">\n",
       "        <h3 style=\"margin-bottom: 0px; margin-top: 0px;\">PBSCluster</h3>\n",
       "        <p style=\"color: #9D9D9D; margin-bottom: 0px;\">d0e298aa</p>\n",
       "        <table style=\"width: 100%; text-align: left;\">\n",
       "            <tr>\n",
       "                <td style=\"text-align: left;\">\n",
       "                    <strong>Dashboard:</strong> <a href=\"https://jupyterhub.hpc.ucar.edu/stable/user/duvivier/proxy/44867/status\" target=\"_blank\">https://jupyterhub.hpc.ucar.edu/stable/user/duvivier/proxy/44867/status</a>\n",
       "                </td>\n",
       "                <td style=\"text-align: left;\">\n",
       "                    <strong>Workers:</strong> 0\n",
       "                </td>\n",
       "            </tr>\n",
       "            <tr>\n",
       "                <td style=\"text-align: left;\">\n",
       "                    <strong>Total threads:</strong> 0\n",
       "                </td>\n",
       "                <td style=\"text-align: left;\">\n",
       "                    <strong>Total memory:</strong> 0 B\n",
       "                </td>\n",
       "            </tr>\n",
       "            \n",
       "        </table>\n",
       "\n",
       "        <details>\n",
       "            <summary style=\"margin-bottom: 20px;\">\n",
       "                <h3 style=\"display: inline;\">Scheduler Info</h3>\n",
       "            </summary>\n",
       "\n",
       "            <div style=\"\">\n",
       "    <div>\n",
       "        <div style=\"width: 24px; height: 24px; background-color: #FFF7E5; border: 3px solid #FF6132; border-radius: 5px; position: absolute;\"> </div>\n",
       "        <div style=\"margin-left: 48px;\">\n",
       "            <h3 style=\"margin-bottom: 0px;\">Scheduler</h3>\n",
       "            <p style=\"color: #9D9D9D; margin-bottom: 0px;\">Scheduler-cc3dd845-e3d5-44fe-8dae-bf53d8734ef9</p>\n",
       "            <table style=\"width: 100%; text-align: left;\">\n",
       "                <tr>\n",
       "                    <td style=\"text-align: left;\">\n",
       "                        <strong>Comm:</strong> tcp://10.12.206.58:40326\n",
       "                    </td>\n",
       "                    <td style=\"text-align: left;\">\n",
       "                        <strong>Workers:</strong> 0\n",
       "                    </td>\n",
       "                </tr>\n",
       "                <tr>\n",
       "                    <td style=\"text-align: left;\">\n",
       "                        <strong>Dashboard:</strong> <a href=\"https://jupyterhub.hpc.ucar.edu/stable/user/duvivier/proxy/44867/status\" target=\"_blank\">https://jupyterhub.hpc.ucar.edu/stable/user/duvivier/proxy/44867/status</a>\n",
       "                    </td>\n",
       "                    <td style=\"text-align: left;\">\n",
       "                        <strong>Total threads:</strong> 0\n",
       "                    </td>\n",
       "                </tr>\n",
       "                <tr>\n",
       "                    <td style=\"text-align: left;\">\n",
       "                        <strong>Started:</strong> Just now\n",
       "                    </td>\n",
       "                    <td style=\"text-align: left;\">\n",
       "                        <strong>Total memory:</strong> 0 B\n",
       "                    </td>\n",
       "                </tr>\n",
       "            </table>\n",
       "        </div>\n",
       "    </div>\n",
       "\n",
       "    <details style=\"margin-left: 48px;\">\n",
       "        <summary style=\"margin-bottom: 20px;\">\n",
       "            <h3 style=\"display: inline;\">Workers</h3>\n",
       "        </summary>\n",
       "\n",
       "        \n",
       "\n",
       "    </details>\n",
       "</div>\n",
       "\n",
       "        </details>\n",
       "    </div>\n",
       "</div>\n",
       "            </details>\n",
       "        \n",
       "\n",
       "    </div>\n",
       "</div>"
      ],
      "text/plain": [
       "<Client: 'tcp://10.12.206.58:40326' processes=0 threads=0, memory=0 B>"
      ]
     },
     "execution_count": 3,
     "metadata": {},
     "output_type": "execute_result"
    }
   ],
   "source": [
    "client"
   ]
  },
  {
   "cell_type": "markdown",
   "metadata": {},
   "source": [
    "## Manually set variables"
   ]
  },
  {
   "cell_type": "code",
   "execution_count": 4,
   "metadata": {},
   "outputs": [],
   "source": [
    "# list the variables to load\n",
    "var_in_1 = 'Z3'"
   ]
  },
  {
   "cell_type": "markdown",
   "metadata": {},
   "source": [
    "## Load the CESM-LE data \n",
    "\n",
    "We will use [`intake-esm`](https://intake-esm.readthedocs.io/en/latest/), which is a data catalog tool.\n",
    "It enables querying a database for the files we want, then loading those directly as an `xarray.Dataset`.\n",
    "\n",
    "First step is to set the \"collection\" for the CESM-LE, which depends on a json file conforming to the [ESM Catalog Specification](https://github.com/NCAR/esm-collection-spec)."
   ]
  },
  {
   "cell_type": "code",
   "execution_count": 5,
   "metadata": {},
   "outputs": [
    {
     "name": "stderr",
     "output_type": "stream",
     "text": [
      "/glade/work/duvivier/miniconda3/envs/analysis3/lib/python3.7/site-packages/intake_esm/core.py:84: DtypeWarning: Columns (5,6,9) have mixed types.Specify dtype option on import or set low_memory=False.\n",
      "  self._df, self.catalog_file = _fetch_catalog(self.esmcol_data, esmcol_obj, csv_kwargs)\n"
     ]
    }
   ],
   "source": [
    "catalog_file = '/glade/collections/cmip/catalog/intake-esm-datastore/catalogs/glade-cesm2-le.json'\n",
    "\n",
    "cat = intake.open_esm_datastore(catalog_file)"
   ]
  },
  {
   "cell_type": "code",
   "execution_count": 6,
   "metadata": {},
   "outputs": [],
   "source": [
    "forcing = 'cmip6'  # do not want smbb data\n",
    "expt = 'ssp370'\n",
    "comp = 'atm'\n",
    "freq = 'month_1'\n",
    "\n",
    "subset_1 = cat.search(variable=var_in_1, forcing_variant=forcing, experiment=expt, component=comp, frequency=freq )"
   ]
  },
  {
   "cell_type": "code",
   "execution_count": 7,
   "metadata": {},
   "outputs": [
    {
     "data": {
      "text/html": [
       "<div>\n",
       "<style scoped>\n",
       "    .dataframe tbody tr th:only-of-type {\n",
       "        vertical-align: middle;\n",
       "    }\n",
       "\n",
       "    .dataframe tbody tr th {\n",
       "        vertical-align: top;\n",
       "    }\n",
       "\n",
       "    .dataframe thead th {\n",
       "        text-align: right;\n",
       "    }\n",
       "</style>\n",
       "<table border=\"1\" class=\"dataframe\">\n",
       "  <thead>\n",
       "    <tr style=\"text-align: right;\">\n",
       "      <th></th>\n",
       "      <th>component</th>\n",
       "      <th>stream</th>\n",
       "      <th>case</th>\n",
       "      <th>member_id</th>\n",
       "      <th>variable</th>\n",
       "      <th>start_time</th>\n",
       "      <th>end_time</th>\n",
       "      <th>time_range</th>\n",
       "      <th>long_name</th>\n",
       "      <th>units</th>\n",
       "      <th>vertical_levels</th>\n",
       "      <th>frequency</th>\n",
       "      <th>path</th>\n",
       "      <th>experiment</th>\n",
       "      <th>forcing_variant</th>\n",
       "      <th>cesm_member_id</th>\n",
       "      <th>control_branch_year</th>\n",
       "      <th>cmip_experiment_id</th>\n",
       "    </tr>\n",
       "  </thead>\n",
       "  <tbody>\n",
       "    <tr>\n",
       "      <th>0</th>\n",
       "      <td>atm</td>\n",
       "      <td>cam.h0</td>\n",
       "      <td>b.e21.BSSP370cmip6.f09_g17.LE2-1001.001</td>\n",
       "      <td>r1i1001p1f1</td>\n",
       "      <td>Z3</td>\n",
       "      <td>2015-01</td>\n",
       "      <td>2024-12</td>\n",
       "      <td>201501-202412</td>\n",
       "      <td>Geopotential Height (above sea level)</td>\n",
       "      <td>m</td>\n",
       "      <td>1.0</td>\n",
       "      <td>month_1</td>\n",
       "      <td>/glade/campaign/cgd/cesm/CESM2-LE/timeseries/a...</td>\n",
       "      <td>ssp370</td>\n",
       "      <td>cmip6</td>\n",
       "      <td>1001.001</td>\n",
       "      <td>1001</td>\n",
       "      <td>CESM2_ssp370_r1i1001p1f1</td>\n",
       "    </tr>\n",
       "    <tr>\n",
       "      <th>1</th>\n",
       "      <td>atm</td>\n",
       "      <td>cam.h0</td>\n",
       "      <td>b.e21.BSSP370cmip6.f09_g17.LE2-1001.001</td>\n",
       "      <td>r1i1001p1f1</td>\n",
       "      <td>Z3</td>\n",
       "      <td>2025-01</td>\n",
       "      <td>2034-12</td>\n",
       "      <td>202501-203412</td>\n",
       "      <td>Geopotential Height (above sea level)</td>\n",
       "      <td>m</td>\n",
       "      <td>1.0</td>\n",
       "      <td>month_1</td>\n",
       "      <td>/glade/campaign/cgd/cesm/CESM2-LE/timeseries/a...</td>\n",
       "      <td>ssp370</td>\n",
       "      <td>cmip6</td>\n",
       "      <td>1001.001</td>\n",
       "      <td>1001</td>\n",
       "      <td>CESM2_ssp370_r1i1001p1f1</td>\n",
       "    </tr>\n",
       "    <tr>\n",
       "      <th>2</th>\n",
       "      <td>atm</td>\n",
       "      <td>cam.h0</td>\n",
       "      <td>b.e21.BSSP370cmip6.f09_g17.LE2-1001.001</td>\n",
       "      <td>r1i1001p1f1</td>\n",
       "      <td>Z3</td>\n",
       "      <td>2035-01</td>\n",
       "      <td>2044-12</td>\n",
       "      <td>203501-204412</td>\n",
       "      <td>Geopotential Height (above sea level)</td>\n",
       "      <td>m</td>\n",
       "      <td>1.0</td>\n",
       "      <td>month_1</td>\n",
       "      <td>/glade/campaign/cgd/cesm/CESM2-LE/timeseries/a...</td>\n",
       "      <td>ssp370</td>\n",
       "      <td>cmip6</td>\n",
       "      <td>1001.001</td>\n",
       "      <td>1001</td>\n",
       "      <td>CESM2_ssp370_r1i1001p1f1</td>\n",
       "    </tr>\n",
       "    <tr>\n",
       "      <th>3</th>\n",
       "      <td>atm</td>\n",
       "      <td>cam.h0</td>\n",
       "      <td>b.e21.BSSP370cmip6.f09_g17.LE2-1001.001</td>\n",
       "      <td>r1i1001p1f1</td>\n",
       "      <td>Z3</td>\n",
       "      <td>2045-01</td>\n",
       "      <td>2054-12</td>\n",
       "      <td>204501-205412</td>\n",
       "      <td>Geopotential Height (above sea level)</td>\n",
       "      <td>m</td>\n",
       "      <td>1.0</td>\n",
       "      <td>month_1</td>\n",
       "      <td>/glade/campaign/cgd/cesm/CESM2-LE/timeseries/a...</td>\n",
       "      <td>ssp370</td>\n",
       "      <td>cmip6</td>\n",
       "      <td>1001.001</td>\n",
       "      <td>1001</td>\n",
       "      <td>CESM2_ssp370_r1i1001p1f1</td>\n",
       "    </tr>\n",
       "    <tr>\n",
       "      <th>4</th>\n",
       "      <td>atm</td>\n",
       "      <td>cam.h0</td>\n",
       "      <td>b.e21.BSSP370cmip6.f09_g17.LE2-1001.001</td>\n",
       "      <td>r1i1001p1f1</td>\n",
       "      <td>Z3</td>\n",
       "      <td>2055-01</td>\n",
       "      <td>2064-12</td>\n",
       "      <td>205501-206412</td>\n",
       "      <td>Geopotential Height (above sea level)</td>\n",
       "      <td>m</td>\n",
       "      <td>1.0</td>\n",
       "      <td>month_1</td>\n",
       "      <td>/glade/campaign/cgd/cesm/CESM2-LE/timeseries/a...</td>\n",
       "      <td>ssp370</td>\n",
       "      <td>cmip6</td>\n",
       "      <td>1001.001</td>\n",
       "      <td>1001</td>\n",
       "      <td>CESM2_ssp370_r1i1001p1f1</td>\n",
       "    </tr>\n",
       "  </tbody>\n",
       "</table>\n",
       "</div>"
      ],
      "text/plain": [
       "  component  stream                                     case    member_id  \\\n",
       "0       atm  cam.h0  b.e21.BSSP370cmip6.f09_g17.LE2-1001.001  r1i1001p1f1   \n",
       "1       atm  cam.h0  b.e21.BSSP370cmip6.f09_g17.LE2-1001.001  r1i1001p1f1   \n",
       "2       atm  cam.h0  b.e21.BSSP370cmip6.f09_g17.LE2-1001.001  r1i1001p1f1   \n",
       "3       atm  cam.h0  b.e21.BSSP370cmip6.f09_g17.LE2-1001.001  r1i1001p1f1   \n",
       "4       atm  cam.h0  b.e21.BSSP370cmip6.f09_g17.LE2-1001.001  r1i1001p1f1   \n",
       "\n",
       "  variable start_time end_time     time_range  \\\n",
       "0       Z3    2015-01  2024-12  201501-202412   \n",
       "1       Z3    2025-01  2034-12  202501-203412   \n",
       "2       Z3    2035-01  2044-12  203501-204412   \n",
       "3       Z3    2045-01  2054-12  204501-205412   \n",
       "4       Z3    2055-01  2064-12  205501-206412   \n",
       "\n",
       "                               long_name units  vertical_levels frequency  \\\n",
       "0  Geopotential Height (above sea level)     m              1.0   month_1   \n",
       "1  Geopotential Height (above sea level)     m              1.0   month_1   \n",
       "2  Geopotential Height (above sea level)     m              1.0   month_1   \n",
       "3  Geopotential Height (above sea level)     m              1.0   month_1   \n",
       "4  Geopotential Height (above sea level)     m              1.0   month_1   \n",
       "\n",
       "                                                path experiment  \\\n",
       "0  /glade/campaign/cgd/cesm/CESM2-LE/timeseries/a...     ssp370   \n",
       "1  /glade/campaign/cgd/cesm/CESM2-LE/timeseries/a...     ssp370   \n",
       "2  /glade/campaign/cgd/cesm/CESM2-LE/timeseries/a...     ssp370   \n",
       "3  /glade/campaign/cgd/cesm/CESM2-LE/timeseries/a...     ssp370   \n",
       "4  /glade/campaign/cgd/cesm/CESM2-LE/timeseries/a...     ssp370   \n",
       "\n",
       "  forcing_variant  cesm_member_id  control_branch_year  \\\n",
       "0           cmip6        1001.001                 1001   \n",
       "1           cmip6        1001.001                 1001   \n",
       "2           cmip6        1001.001                 1001   \n",
       "3           cmip6        1001.001                 1001   \n",
       "4           cmip6        1001.001                 1001   \n",
       "\n",
       "         cmip_experiment_id  \n",
       "0  CESM2_ssp370_r1i1001p1f1  \n",
       "1  CESM2_ssp370_r1i1001p1f1  \n",
       "2  CESM2_ssp370_r1i1001p1f1  \n",
       "3  CESM2_ssp370_r1i1001p1f1  \n",
       "4  CESM2_ssp370_r1i1001p1f1  "
      ]
     },
     "execution_count": 7,
     "metadata": {},
     "output_type": "execute_result"
    }
   ],
   "source": [
    "subset_1.df.head()"
   ]
  },
  {
   "cell_type": "code",
   "execution_count": 8,
   "metadata": {},
   "outputs": [
    {
     "name": "stdout",
     "output_type": "stream",
     "text": [
      "['ssp370']\n"
     ]
    }
   ],
   "source": [
    "# check that we only have cmip6, not smbb, data\n",
    "member_id = list(subset_1.df.experiment.unique())\n",
    "print(member_id)"
   ]
  },
  {
   "cell_type": "code",
   "execution_count": null,
   "metadata": {},
   "outputs": [
    {
     "name": "stdout",
     "output_type": "stream",
     "text": [
      "\n",
      "--> The keys in the returned dictionary of datasets are constructed as follows:\n",
      "\t'component.experiment.stream.forcing_variant.variable'\n"
     ]
    }
   ],
   "source": [
    "%%time\n",
    "with dask.config.set(**{'array.slicing.split_large_chunks': True}):\n",
    "    dsets_1 = subset_1.to_dataset_dict(cdf_kwargs={'chunks': {'time':50}, 'decode_times': True})\n",
    "#    dsets_1 = subset_1.to_dataset_dict(cdf_kwargs={'chunks': {'time':240}, 'decode_times': True})"
   ]
  },
  {
   "cell_type": "code",
   "execution_count": null,
   "metadata": {},
   "outputs": [],
   "source": [
    "# load in the future datasets\n",
    "futures_1 = []\n",
    "for key in sorted(dsets_1.keys()):\n",
    "    futures_1.append(dsets_1[key])\n",
    "    print(key)"
   ]
  },
  {
   "cell_type": "code",
   "execution_count": null,
   "metadata": {},
   "outputs": [],
   "source": [
    "future_ds_1 = xr.concat(futures_1, dim='member_id')"
   ]
  },
  {
   "cell_type": "code",
   "execution_count": null,
   "metadata": {},
   "outputs": [],
   "source": [
    "future_ds_1.time"
   ]
  },
  {
   "cell_type": "code",
   "execution_count": null,
   "metadata": {},
   "outputs": [],
   "source": [
    "# Shift months by one to be center of time period.\n",
    "# Take average of the time bounds to get middle of month\n",
    "# will lose some attributes with time, so may need to put this back in later...\n",
    "future_ds_1['time'] = future_ds_1.time_bnds.load().mean(dim='nbnd').sel(member_id='r1i1281p1f1')"
   ]
  },
  {
   "cell_type": "code",
   "execution_count": null,
   "metadata": {},
   "outputs": [],
   "source": [
    "# get just NH slice\n",
    "future_ds_1_masked = future_ds_1.isel(lat=slice(164,192))"
   ]
  },
  {
   "cell_type": "code",
   "execution_count": null,
   "metadata": {},
   "outputs": [],
   "source": [
    "# grab variables of interest\n",
    "Z_le = future_ds_1_masked[var_in_1]"
   ]
  },
  {
   "cell_type": "code",
   "execution_count": null,
   "metadata": {},
   "outputs": [],
   "source": [
    "Z_le.persist()"
   ]
  },
  {
   "cell_type": "markdown",
   "metadata": {},
   "source": [
    "## Calculate geopotential height on regular pressure levels"
   ]
  },
  {
   "cell_type": "markdown",
   "metadata": {},
   "source": [
    "### Get surface pressure"
   ]
  },
  {
   "cell_type": "code",
   "execution_count": null,
   "metadata": {},
   "outputs": [],
   "source": [
    "# We will need surface pressure and reference pressure for interpolation\n",
    "\n",
    "# set a surface reference pressure [Pa]\n",
    "p0 = 100000 \n",
    "\n",
    "# set variable name\n",
    "var_in_3 = 'PS'"
   ]
  },
  {
   "cell_type": "code",
   "execution_count": null,
   "metadata": {},
   "outputs": [],
   "source": [
    "# use same input parameters as above\n",
    "#forcing = 'cmip6'  # do not want smbb data\n",
    "#expt = 'ssp370'\n",
    "#comp = 'atm'\n",
    "#freq = 'month_1'\n",
    "\n",
    "subset_3 = cat.search(variable=var_in_3, forcing_variant=forcing, experiment=expt, component=comp, frequency=freq )"
   ]
  },
  {
   "cell_type": "code",
   "execution_count": null,
   "metadata": {},
   "outputs": [],
   "source": [
    "%%time\n",
    "with dask.config.set(**{'array.slicing.split_large_chunks': True}):\n",
    "    dsets_3 = subset_3.to_dataset_dict(cdf_kwargs={'chunks': {'time':240}, 'decode_times': True})"
   ]
  },
  {
   "cell_type": "code",
   "execution_count": null,
   "metadata": {},
   "outputs": [],
   "source": [
    "# load in the future datasets\n",
    "futures_3 = []\n",
    "for key in sorted(dsets_3.keys()):\n",
    "    futures_3.append(dsets_3[key])\n",
    "    print(key)"
   ]
  },
  {
   "cell_type": "code",
   "execution_count": null,
   "metadata": {},
   "outputs": [],
   "source": [
    "future_ds_3 = xr.concat(futures_3, dim='member_id')"
   ]
  },
  {
   "cell_type": "code",
   "execution_count": null,
   "metadata": {},
   "outputs": [],
   "source": [
    "# Shift months by one to be center of time period.\n",
    "# Take average of the time bounds to get middle of month\n",
    "# will lose some attributes with time, so may need to put this back in later...\n",
    "future_ds_3['time'] = future_ds_3.time_bnds.load().mean(dim='nbnd').sel(member_id='r1i1281p1f1')"
   ]
  },
  {
   "cell_type": "code",
   "execution_count": null,
   "metadata": {},
   "outputs": [],
   "source": [
    "# get just NH slice\n",
    "future_ds_3_masked = future_ds_3.isel(lat=slice(164,192))"
   ]
  },
  {
   "cell_type": "code",
   "execution_count": null,
   "metadata": {},
   "outputs": [],
   "source": [
    "# grab variables of interest\n",
    "PS_le = future_ds_3_masked[var_in_3]"
   ]
  },
  {
   "cell_type": "markdown",
   "metadata": {},
   "source": [
    "### Load the vertical parameters"
   ]
  },
  {
   "cell_type": "code",
   "execution_count": null,
   "metadata": {},
   "outputs": [],
   "source": [
    "# grab parameters for interpolation\n",
    "hyam_le = future_ds_1_masked[\"hyam\"]\n",
    "hybm_le = future_ds_1_masked[\"hybm\"]"
   ]
  },
  {
   "cell_type": "markdown",
   "metadata": {},
   "source": [
    "### Interpolate to new pressure levels from hybrid levels"
   ]
  },
  {
   "cell_type": "code",
   "execution_count": null,
   "metadata": {},
   "outputs": [],
   "source": [
    "# Specify output pressure levels\n",
    "new_levels = np.array([925, 850, 700, 500])  # in millibars\n",
    "new_levels = new_levels * 100  # convert to Pascals"
   ]
  },
  {
   "cell_type": "code",
   "execution_count": null,
   "metadata": {},
   "outputs": [],
   "source": [
    "%%time\n",
    "Z_le_interp = gcomp.interp_hybrid_to_pressure(Z_le,\n",
    "                                               PS_le,\n",
    "                                               hyam_le, hybm_le, p0 = p0,\n",
    "                                               new_levels=new_levels,\n",
    "                                               method='linear')"
   ]
  },
  {
   "cell_type": "code",
   "execution_count": null,
   "metadata": {},
   "outputs": [],
   "source": [
    "Z_le_interp.persist()"
   ]
  },
  {
   "cell_type": "markdown",
   "metadata": {},
   "source": [
    "## Calculate Seasonal Means"
   ]
  },
  {
   "cell_type": "code",
   "execution_count": null,
   "metadata": {},
   "outputs": [],
   "source": [
    "season_names = ['OND','JFM', 'AMJ', 'JAS']"
   ]
  },
  {
   "cell_type": "code",
   "execution_count": null,
   "metadata": {},
   "outputs": [],
   "source": [
    "# find total years\n",
    "xarr_le = Z_le_interp.coords['time.year'][(Z_le_interp.coords['time.month']==1)]"
   ]
  },
  {
   "cell_type": "code",
   "execution_count": null,
   "metadata": {},
   "outputs": [],
   "source": [
    "# Loop through seasons - le\n",
    "\n",
    "# make numpy array to fill and specify dimensions we want\n",
    "seas_array_le_1 = np.zeros([len(season_names),len(xarr_le),len(Z_le_interp.member_id),len(Z_le_interp.plev),len(Z_le_interp.lat),len(Z_le_interp.lon)])\n",
    "\n",
    "for s_count, ss in enumerate(season_names):\n",
    "#for s_count, ss in enumerate(season_names[0:1]):\n",
    "    print(ss)\n",
    "    ### Z PLEV\n",
    "    # get temporary array of just these month by season\n",
    "    if ss == 'JFM':\n",
    "        temp1 = Z_le_interp.isel(time=Z_le_interp.time.dt.month.isin([1,2,3]))\n",
    "    if ss == 'AMJ':\n",
    "        temp1 = Z_le_interp.isel(time=Z_le_interp.time.dt.month.isin([4,5,6]))\n",
    "    if ss == 'JAS':\n",
    "        temp1 = Z_le_interp.isel(time=Z_le_interp.time.dt.month.isin([7,8,9]))\n",
    "    if ss == 'OND':\n",
    "        temp1 = Z_le_interp.isel(time=Z_le_interp.time.dt.month.isin([10,11,12]))\n",
    "    # now loop through years to get the seasonal average by year for each ensemble member\n",
    "    for y_count, yy in enumerate(xarr_le):\n",
    "    #for y_count, yy in enumerate(xarr_le[0:1]):\n",
    "        # select only the indexes for this year\n",
    "        temp1a = temp1.isel(time=temp1.time.dt.year.isin([yy])).mean(dim='time')\n",
    "        seas_array_le_1[s_count,y_count,:,:,:,:] = temp1a   \n"
   ]
  },
  {
   "cell_type": "code",
   "execution_count": null,
   "metadata": {},
   "outputs": [],
   "source": [
    "print(seas_array_le_1.shape)"
   ]
  },
  {
   "cell_type": "code",
   "execution_count": null,
   "metadata": {},
   "outputs": [],
   "source": [
    "# convert the numpy array to a xarray for easier plotting\n",
    "Z_seas_le = xr.DataArray(seas_array_le_1,dims=('season','time','member_id','plev','lat','lon'))"
   ]
  },
  {
   "cell_type": "code",
   "execution_count": null,
   "metadata": {},
   "outputs": [],
   "source": [
    "# set coordinate arrays\n",
    "Z_seas_le['season'] = season_names\n",
    "Z_seas_le['time'] = xarr_le\n",
    "Z_seas_le['member_id'] = Z_le_interp['member_id']\n",
    "Z_seas_le['plev'] = Z_le_interp['plev'].values\n",
    "Z_seas_le['lat'] = Z_le_interp['lat'].values\n",
    "Z_seas_le['lon'] = Z_le_interp['lon'].values\n"
   ]
  },
  {
   "cell_type": "markdown",
   "metadata": {},
   "source": [
    "## Write out files"
   ]
  },
  {
   "cell_type": "code",
   "execution_count": null,
   "metadata": {},
   "outputs": [],
   "source": [
    "# quick and dirty way to save a file!\n",
    "\n",
    "# save rufmod expt, rename the variable so it makes sense\n",
    "#fout = 'rufmod_vertical_seas_ens_mean_WS'\n",
    "#\n",
    "#WS_seas_ens_mean_rufmod.to_dataset(name='vert_ws').to_netcdf(fout+'.nc')"
   ]
  },
  {
   "cell_type": "markdown",
   "metadata": {},
   "source": [
    "### Z @ PLEVS"
   ]
  },
  {
   "cell_type": "code",
   "execution_count": null,
   "metadata": {},
   "outputs": [],
   "source": [
    "#set info to write out\n",
    "out_tag = 'Z'\n",
    "units = 'm'\n",
    "longname = 'geopotential height at given plevels'\n",
    "\n",
    "fout = 'CESM2-LE_seas_'+out_tag"
   ]
  },
  {
   "cell_type": "code",
   "execution_count": null,
   "metadata": {},
   "outputs": [],
   "source": [
    "ds_to_save = Z_seas_le"
   ]
  },
  {
   "cell_type": "code",
   "execution_count": null,
   "metadata": {},
   "outputs": [],
   "source": [
    "# check how big this will be to write out in GB\n",
    "ds_to_save.nbytes/(1024**3)"
   ]
  },
  {
   "cell_type": "code",
   "execution_count": null,
   "metadata": {},
   "outputs": [],
   "source": [
    "# assign some attributes\n",
    "refdata = {'Author': 'Alice DuVivier', 'units':units, 'longname':longname}\n",
    "\n",
    "ds_to_save.attrs = refdata"
   ]
  },
  {
   "cell_type": "code",
   "execution_count": null,
   "metadata": {},
   "outputs": [],
   "source": [
    "# check data\n",
    "ds_to_save\n"
   ]
  },
  {
   "cell_type": "code",
   "execution_count": null,
   "metadata": {},
   "outputs": [],
   "source": [
    "ds_to_save.to_netcdf(fout+'.nc')  # how to save file"
   ]
  },
  {
   "cell_type": "code",
   "execution_count": null,
   "metadata": {},
   "outputs": [],
   "source": []
  }
 ],
 "metadata": {
  "kernelspec": {
   "display_name": "Python [conda env:miniconda3-analysis3]",
   "language": "python",
   "name": "conda-env-miniconda3-analysis3-py"
  },
  "language_info": {
   "codemirror_mode": {
    "name": "ipython",
    "version": 3
   },
   "file_extension": ".py",
   "mimetype": "text/x-python",
   "name": "python",
   "nbconvert_exporter": "python",
   "pygments_lexer": "ipython3",
   "version": "3.7.12"
  }
 },
 "nbformat": 4,
 "nbformat_minor": 4
}
