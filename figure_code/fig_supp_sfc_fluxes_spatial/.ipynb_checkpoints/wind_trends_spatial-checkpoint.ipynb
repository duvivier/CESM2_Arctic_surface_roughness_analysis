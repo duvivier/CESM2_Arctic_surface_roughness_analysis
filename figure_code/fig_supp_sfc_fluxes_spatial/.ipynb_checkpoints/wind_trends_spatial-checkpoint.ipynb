{
 "cells": [
  {
   "cell_type": "markdown",
   "metadata": {
    "tags": []
   },
   "source": [
    "# Calculate seasonal wind trends at all Arctic points\n",
    "\n",
    "* **Description**: Reads in and creates spatial plots of wind trends\n",
    "* **Input data**: CESM2-LE and Rufmod output in timeseries format\n",
    "* **Output data**: PNG figures of trends\n",
    "* **Creator**: Alice DuVivier\n",
    "* **Date**: December 2021"
   ]
  },
  {
   "cell_type": "markdown",
   "metadata": {},
   "source": [
    "The rufmod experiments were performed where the sea ice roughness over Arctic sea ice regions was set to be equal to what it would be over open ocean. This is to better understand ice-atmosphere coupling, processes, and feedbacks."
   ]
  },
  {
   "cell_type": "code",
   "execution_count": 2,
   "metadata": {},
   "outputs": [],
   "source": [
    "import xarray as xr\n",
    "import numpy as np\n",
    "import matplotlib.pyplot as plt\n",
    "import matplotlib.path as mpath\n",
    "from matplotlib.gridspec import GridSpec\n",
    "import pop_tools\n",
    "from datetime import timedelta\n",
    "import glob\n",
    "import geocat.datafiles as gdf\n",
    "import geocat.viz.util as gvutil\n",
    "from geocat.viz import cmaps as gvcmaps\n",
    "import geocat.comp as gcomp\n",
    "\n",
    "import cartopy.crs as ccrs\n",
    "import cartopy.feature as cfeature\n",
    "from scipy.stats import linregress,pearsonr, t\n",
    "\n",
    "import dask\n",
    "import intake\n",
    "from distributed import Client\n",
    "from ncar_jobqueue import NCARCluster"
   ]
  },
  {
   "cell_type": "code",
   "execution_count": null,
   "metadata": {},
   "outputs": [],
   "source": [
    "# spin up dask cluster\n",
    "\n",
    "import dask\n",
    "\n",
    "# Use dask jobqueue\n",
    "from dask_jobqueue import PBSCluster\n",
    "\n",
    "# Import a client\n",
    "from dask.distributed import Client\n",
    "\n",
    "# Setup your PBSCluster\n",
    "cluster = PBSCluster(\n",
    "    cores=2, # The number of cores you want\n",
    "    memory='32 GB', # Amount of memory\n",
    "    processes=1, # How many processes\n",
    "    queue='casper', # The type of queue to utilize (/glade/u/apps/dav/opt/usr/bin/execcasper)\n",
    "    local_directory='$TMPDIR', # Use your local directory\n",
    "    #resource_spec='select=1:ncpus=2:mem=256GB', # Specify resources\n",
    "    project='P93300665', # Input your project ID here\n",
    "    walltime='04:00:00', # Amount of wall time\n",
    "    interface='ib0', # Interface to use\n",
    ")\n",
    "# Scale up\n",
    "cluster.scale(32)\n",
    "\n",
    "# Change your url to the dask dashboard so you can see it\n",
    "dask.config.set({'distributed.dashboard.link':'https://jupyterhub.hpc.ucar.edu/stable/user/{USER}/proxy/{port}/status'})\n",
    "\n",
    "# Setup your client\n",
    "client = Client(cluster)"
   ]
  },
  {
   "cell_type": "code",
   "execution_count": null,
   "metadata": {},
   "outputs": [],
   "source": [
    "client"
   ]
  },
  {
   "cell_type": "markdown",
   "metadata": {},
   "source": [
    "## Manually set variables"
   ]
  },
  {
   "cell_type": "code",
   "execution_count": null,
   "metadata": {},
   "outputs": [],
   "source": [
    "# list the variables to load\n",
    "var_in_1 = 'U10'"
   ]
  },
  {
   "cell_type": "code",
   "execution_count": null,
   "metadata": {},
   "outputs": [],
   "source": [
    "# Load a Landfrac mask\n",
    "ds_masks = xr.open_mfdataset('/glade/p/cgd/ppc/duvivier/masks/b.e21.BSSP370.f09_g17.rufmod.001.cam.h0.2015-01.nc')\n",
    "my_mask = ds_masks['LANDFRAC'].isel(time=0)"
   ]
  },
  {
   "cell_type": "markdown",
   "metadata": {},
   "source": [
    "## Load rufmod experiments"
   ]
  },
  {
   "cell_type": "code",
   "execution_count": null,
   "metadata": {},
   "outputs": [],
   "source": [
    "# Load \"rufmod\" data\n",
    "#choose cases and data paths\n",
    "case1 = 'b.e21.BSSP370.f09_g17.rufmod.001'\n",
    "case2 = 'b.e21.BSSP370.f09_g17.rufmod.002'\n",
    "case3 = 'b.e21.BSSP370.f09_g17.rufmod.003'\n",
    "case4 = 'b.e21.BSSP370.f09_g17.rufmod.004'\n",
    "case5 = 'b.e21.BSSP370.f09_g17.rufmod.005'\n",
    "\n",
    "# set base directory where all data live\n",
    "data_dir = '/glade/campaign/cesm/development/pcwg/duvivier/arctic_cyclones/'\n",
    "# set individual data directories\n",
    "data_dir1 = data_dir+case1+'/atm/proc/tseries/month_1/'\n",
    "data_dir2 = data_dir+case2+'/atm/proc/tseries/month_1/'\n",
    "data_dir3 = data_dir+case3+'/atm/proc/tseries/month_1/'\n",
    "data_dir4 = data_dir+case4+'/atm/proc/tseries/month_1/'\n",
    "data_dir5 = data_dir+case5+'/atm/proc/tseries/month_1/'"
   ]
  },
  {
   "cell_type": "code",
   "execution_count": null,
   "metadata": {},
   "outputs": [],
   "source": [
    "%%time\n",
    "#reading in files\n",
    "print(\"loading \"+var_in_1)   \n",
    "ds1_1 = []\n",
    "ds2_1 = []\n",
    "ds3_1 = []\n",
    "ds4_1 = []\n",
    "ds5_1 = []\n",
    "my_files=sorted(glob.glob(data_dir1+case1+'.cam.h0.'+var_in_1+'.*.nc'))\n",
    "ds1_1=xr.open_mfdataset(my_files,combine='by_coords',chunks={}, parallel=True, compat='override', coords='minimal')\n",
    "my_files=sorted(glob.glob(data_dir2+case2+'.cam.h0.'+var_in_1+'.*.nc'))\n",
    "ds2_1=xr.open_mfdataset(my_files,combine='by_coords',chunks={}, parallel=True, compat='override', coords='minimal')\n",
    "my_files=sorted(glob.glob(data_dir3+case3+'.cam.h0.'+var_in_1+'.*.nc'))\n",
    "ds3_1=xr.open_mfdataset(my_files,combine='by_coords',chunks={}, parallel=True, compat='override', coords='minimal')    \n",
    "my_files=sorted(glob.glob(data_dir4+case4+'.cam.h0.'+var_in_1+'.*.nc'))\n",
    "ds4_1=xr.open_mfdataset(my_files,combine='by_coords',chunks={}, parallel=True, compat='override', coords='minimal')\n",
    "my_files=sorted(glob.glob(data_dir5+case5+'.cam.h0.'+var_in_1+'.*.nc'))\n",
    "ds5_1=xr.open_mfdataset(my_files,combine='by_coords',chunks={}, parallel=True, compat='override', coords='minimal')"
   ]
  },
  {
   "cell_type": "code",
   "execution_count": null,
   "metadata": {},
   "outputs": [],
   "source": [
    "# concatenate them into a single array\n",
    "futures_1 = xr.concat([ds1_1,ds2_1,ds3_1,ds4_1,ds5_1],dim='member_id')"
   ]
  },
  {
   "cell_type": "code",
   "execution_count": null,
   "metadata": {},
   "outputs": [],
   "source": [
    "# set member_id values\n",
    "futures_1.member_id.values\n",
    "\n",
    "# assign member_id as coordinate array\n",
    "futures_1.assign_coords({\"member_id\": futures_1.member_id.values})"
   ]
  },
  {
   "cell_type": "code",
   "execution_count": null,
   "metadata": {},
   "outputs": [],
   "source": [
    "futures_1"
   ]
  },
  {
   "cell_type": "code",
   "execution_count": null,
   "metadata": {},
   "outputs": [],
   "source": [
    "# Shift months by one to be center of time period.\n",
    "# Take average of the time bounds to get middle of month\n",
    "# will lose some attributes with time, so may need to put this back in later...\n",
    "futures_1['time'] = futures_1.time_bnds.load().mean(dim='nbnd').sel(member_id=0)"
   ]
  },
  {
   "cell_type": "code",
   "execution_count": null,
   "metadata": {},
   "outputs": [],
   "source": [
    "futures_1.time"
   ]
  },
  {
   "cell_type": "code",
   "execution_count": null,
   "metadata": {},
   "outputs": [],
   "source": [
    "U10_rufmod = futures_1[var_in_1]"
   ]
  },
  {
   "cell_type": "code",
   "execution_count": null,
   "metadata": {},
   "outputs": [],
   "source": [
    "U10_rufmod.sel(member_id=0).isel(time=0).plot()"
   ]
  },
  {
   "cell_type": "code",
   "execution_count": null,
   "metadata": {},
   "outputs": [],
   "source": [
    "#mask just NH ocean points\n",
    "U10_masked_rufmod = U10_rufmod.where((U10_rufmod['lat']>70.0) & (my_mask<0.5), drop=True)"
   ]
  },
  {
   "cell_type": "code",
   "execution_count": null,
   "metadata": {},
   "outputs": [],
   "source": [
    "# test simple plot\n",
    "U10_masked_rufmod.sel(member_id=0).isel(time=100).plot()"
   ]
  },
  {
   "cell_type": "code",
   "execution_count": null,
   "metadata": {},
   "outputs": [],
   "source": [
    "U10_masked_rufmod.load()"
   ]
  },
  {
   "cell_type": "markdown",
   "metadata": {},
   "source": [
    "## Read the CESM-LE data \n",
    "\n",
    "We will use [`intake-esm`](https://intake-esm.readthedocs.io/en/latest/), which is a data catalog tool.\n",
    "It enables querying a database for the files we want, then loading those directly as an `xarray.Dataset`.\n",
    "\n",
    "First step is to set the \"collection\" for the CESM-LE, which depends on a json file conforming to the [ESM Catalog Specification](https://github.com/NCAR/esm-collection-spec)."
   ]
  },
  {
   "cell_type": "code",
   "execution_count": null,
   "metadata": {},
   "outputs": [],
   "source": [
    "catalog_file = '/glade/collections/cmip/catalog/intake-esm-datastore/catalogs/glade-cesm2-le.json'\n",
    "\n",
    "cat = intake.open_esm_datastore(catalog_file)"
   ]
  },
  {
   "cell_type": "code",
   "execution_count": null,
   "metadata": {},
   "outputs": [],
   "source": [
    "forcing = 'cmip6'  # do not want smbb data\n",
    "expt = 'ssp370'\n",
    "comp = 'atm'\n",
    "freq = 'month_1'\n",
    "\n",
    "subset_1 = cat.search(variable=var_in_1, forcing_variant=forcing, experiment=expt, component=comp, frequency=freq )"
   ]
  },
  {
   "cell_type": "code",
   "execution_count": null,
   "metadata": {},
   "outputs": [],
   "source": [
    "subset_1"
   ]
  },
  {
   "cell_type": "code",
   "execution_count": null,
   "metadata": {},
   "outputs": [],
   "source": [
    "subset_1.df.head()"
   ]
  },
  {
   "cell_type": "code",
   "execution_count": null,
   "metadata": {},
   "outputs": [],
   "source": [
    "# check that we only have cmip6, not smbb, data\n",
    "member_id = list(subset_1.df.experiment.unique())\n",
    "print(member_id)"
   ]
  },
  {
   "cell_type": "code",
   "execution_count": null,
   "metadata": {},
   "outputs": [],
   "source": [
    "%%time\n",
    "with dask.config.set(**{'array.slicing.split_large_chunks': True}):\n",
    "    dsets_1 = subset_1.to_dataset_dict(cdf_kwargs={'chunks': {'time':240}, 'decode_times': True})"
   ]
  },
  {
   "cell_type": "code",
   "execution_count": null,
   "metadata": {},
   "outputs": [],
   "source": [
    "# load in the future datasets\n",
    "futures_1 = []\n",
    "for key in sorted(dsets_1.keys()):\n",
    "    futures_1.append(dsets_1[key])\n",
    "    print(key)\n",
    "    "
   ]
  },
  {
   "cell_type": "code",
   "execution_count": null,
   "metadata": {},
   "outputs": [],
   "source": [
    "future_ds_1 = xr.concat(futures_1, dim='member_id')"
   ]
  },
  {
   "cell_type": "code",
   "execution_count": null,
   "metadata": {},
   "outputs": [],
   "source": [
    "future_ds_1.time"
   ]
  },
  {
   "cell_type": "code",
   "execution_count": null,
   "metadata": {},
   "outputs": [],
   "source": [
    "# Shift months by one to be center of time period.\n",
    "# Take average of the time bounds to get middle of month\n",
    "# will lose some attributes with time, so may need to put this back in later...\n",
    "future_ds_1['time'] = future_ds_1.time_bnds.load().mean(dim='nbnd').sel(member_id='r1i1281p1f1')"
   ]
  },
  {
   "cell_type": "code",
   "execution_count": null,
   "metadata": {},
   "outputs": [],
   "source": [
    "U10_le = future_ds_1[var_in_1]"
   ]
  },
  {
   "cell_type": "code",
   "execution_count": null,
   "metadata": {},
   "outputs": [],
   "source": [
    "U10_le.persist()"
   ]
  },
  {
   "cell_type": "code",
   "execution_count": null,
   "metadata": {},
   "outputs": [],
   "source": [
    "U10_le.sel(member_id='r1i1281p1f1').isel(time=0).plot()"
   ]
  },
  {
   "cell_type": "code",
   "execution_count": null,
   "metadata": {},
   "outputs": [],
   "source": [
    "U10_le"
   ]
  },
  {
   "cell_type": "code",
   "execution_count": null,
   "metadata": {},
   "outputs": [],
   "source": [
    "# set mask lat/lon to equal those from LE, otherwise masking below doesn't work properly\n",
    "my_mask['lat'] = U10_le['lat']\n",
    "my_mask['lon'] = U10_le['lon']"
   ]
  },
  {
   "cell_type": "code",
   "execution_count": null,
   "metadata": {},
   "outputs": [],
   "source": [
    "#mask just NH ocean points\n",
    "U10_masked_le = U10_le.where((U10_le['lat']>70.0) & (my_mask<0.5), drop=True)"
   ]
  },
  {
   "cell_type": "code",
   "execution_count": null,
   "metadata": {},
   "outputs": [],
   "source": [
    "# test simple plot\n",
    "U10_masked_le.sel(member_id='r1i1281p1f1').isel(time=0).plot()"
   ]
  },
  {
   "cell_type": "code",
   "execution_count": null,
   "metadata": {},
   "outputs": [],
   "source": [
    "U10_masked_le"
   ]
  },
  {
   "cell_type": "code",
   "execution_count": null,
   "metadata": {},
   "outputs": [],
   "source": [
    "#U10_masked_le.persist()\n",
    "U10_masked_le.load()"
   ]
  },
  {
   "cell_type": "markdown",
   "metadata": {},
   "source": [
    "## Calculate seasonal means"
   ]
  },
  {
   "cell_type": "code",
   "execution_count": null,
   "metadata": {},
   "outputs": [],
   "source": [
    "season_names = ['OND','JFM', 'AMJ', 'JAS']"
   ]
  },
  {
   "cell_type": "code",
   "execution_count": null,
   "metadata": {},
   "outputs": [],
   "source": [
    "# calculate seasonal indexes  - DIDN'T END UP DOING IT THIS WAY, DID IT MANUALLY FOR GROUPINGS ABOVE\n",
    "#season_names = ['DJF', 'MAM', 'JJA', 'SON']\n",
    "#season_idxs_le = sidragtop_masked_le.groupby('time.season').groups\n",
    "#season_idxs_rufmod = sidragtop_masked_rufmod.groupby('time.season').groups"
   ]
  },
  {
   "cell_type": "code",
   "execution_count": null,
   "metadata": {},
   "outputs": [],
   "source": [
    "# find total years\n",
    "xarr_le = U10_masked_le.coords['time.year'][(U10_masked_le.coords['time.month']==1)]\n",
    "xarr_rufmod = U10_masked_rufmod.coords['time.year'][(U10_masked_rufmod.coords['time.month']==1)]"
   ]
  },
  {
   "cell_type": "code",
   "execution_count": null,
   "metadata": {},
   "outputs": [],
   "source": [
    "# Loop through seasons - rufmod\n",
    "\n",
    "# make numpy array to fill and specify dimensions we want\n",
    "seas_array_rufmod = np.zeros([len(season_names),len(xarr_rufmod),len(U10_masked_rufmod.member_id),len(U10_masked_rufmod.lat),len(U10_masked_rufmod.lon)])\n",
    "\n",
    "for ss in season_names:\n",
    "    print(ss)\n",
    "    if ss == 'OND':\n",
    "        s_count = 0\n",
    "    else: \n",
    "        s_count = s_count+1\n",
    "    # get temporary array of just these month by season\n",
    "    if ss == 'JFM':\n",
    "        temp1 = U10_masked_rufmod.isel(time=U10_masked_rufmod.time.dt.month.isin([1,2,3]))\n",
    "    if ss == 'AMJ':\n",
    "        temp1 = U10_masked_rufmod.isel(time=U10_masked_rufmod.time.dt.month.isin([4,5,6]))\n",
    "    if ss == 'JAS':\n",
    "        temp1 = U10_masked_rufmod.isel(time=U10_masked_rufmod.time.dt.month.isin([7,8,9]))\n",
    "    if ss == 'OND':\n",
    "        temp1 = U10_masked_rufmod.isel(time=U10_masked_rufmod.time.dt.month.isin([10,11,12]))\n",
    "    # now loop through years to get the seasonal average by year for each ensemble member\n",
    "    for yy in xarr_rufmod:\n",
    "        if yy == 2015:\n",
    "            y_count = 0\n",
    "        else: \n",
    "            y_count = y_count+1 \n",
    "        # select only the indexes for this year\n",
    "        temp2 = temp1.isel(time=temp1.time.dt.year.isin([yy]))\n",
    "        temp3 = temp2.mean(dim='time')\n",
    "        seas_array_rufmod[s_count,y_count,:,:,:] = temp3    \n"
   ]
  },
  {
   "cell_type": "code",
   "execution_count": null,
   "metadata": {},
   "outputs": [],
   "source": [
    "# Loop through seasons - CESM2-LE\n",
    "\n",
    "# make numpy array to fill and specify dimensions we want\n",
    "seas_array_le = np.zeros([len(season_names),len(xarr_le),len(U10_masked_le.member_id),len(U10_masked_le.lat),len(U10_masked_le.lon)])\n",
    "\n",
    "for ss in season_names:\n",
    "    print(ss)\n",
    "    if ss == 'OND':\n",
    "        s_count = 0\n",
    "    else: \n",
    "        s_count = s_count+1\n",
    "    # get temporary array of just these month by season\n",
    "    if ss == 'JFM':\n",
    "        temp1 = U10_masked_le.isel(time=U10_masked_le.time.dt.month.isin([1,2,3]))\n",
    "    if ss == 'AMJ':\n",
    "        temp1 = U10_masked_le.isel(time=U10_masked_le.time.dt.month.isin([4,5,6]))\n",
    "    if ss == 'JAS':\n",
    "        temp1 = U10_masked_le.isel(time=U10_masked_le.time.dt.month.isin([7,8,9]))\n",
    "    if ss == 'OND':\n",
    "        temp1 = U10_masked_le.isel(time=U10_masked_le.time.dt.month.isin([10,11,12]))\n",
    "    # now loop through years to get the seasonal average by year for each ensemble member\n",
    "    for yy in xarr_le:\n",
    "        if yy == 2015:\n",
    "            y_count = 0\n",
    "        else: \n",
    "            y_count = y_count+1 \n",
    "        # select only the indexes for this year\n",
    "        temp2 = temp1.isel(time=temp1.time.dt.year.isin([yy]))\n",
    "        temp3 = temp2.mean(dim='time')\n",
    "        seas_array_le[s_count,y_count,:,:,:] = temp3    \n"
   ]
  },
  {
   "cell_type": "code",
   "execution_count": null,
   "metadata": {},
   "outputs": [],
   "source": [
    "print(seas_array_le.shape)\n",
    "print(seas_array_rufmod.shape)"
   ]
  },
  {
   "cell_type": "code",
   "execution_count": null,
   "metadata": {},
   "outputs": [],
   "source": [
    "U10_masked_le"
   ]
  },
  {
   "cell_type": "code",
   "execution_count": null,
   "metadata": {},
   "outputs": [],
   "source": [
    "# convert the numpy array to a xarray for easier plotting\n",
    "U10_seas_le = xr.DataArray(seas_array_le,dims=('season','time','member_id','lat','lon'))\n",
    "U10_seas_rufmod = xr.DataArray(seas_array_rufmod,dims=('season','time','member_id','lat','lon'))"
   ]
  },
  {
   "cell_type": "code",
   "execution_count": null,
   "metadata": {},
   "outputs": [],
   "source": [
    "# set coordinate arrays\n",
    "U10_seas_le['season'] = season_names\n",
    "U10_seas_le['time'] = xarr_le\n",
    "U10_seas_le['member_id'] = U10_masked_le['member_id']\n",
    "U10_seas_le['lat'] = U10_masked_le['lat'].values\n",
    "U10_seas_le['lon'] = U10_masked_le['lon'].values\n",
    "\n",
    "U10_seas_rufmod['season'] = season_names\n",
    "U10_seas_rufmod['time'] = xarr_rufmod\n",
    "U10_seas_rufmod['member_id'] = U10_masked_rufmod['member_id']\n",
    "U10_seas_rufmod['lat'] = U10_masked_rufmod['lat'].values\n",
    "U10_seas_rufmod['lon'] = U10_masked_rufmod['lon'].values"
   ]
  },
  {
   "cell_type": "markdown",
   "metadata": {
    "tags": []
   },
   "source": [
    "## Calculate and plot ensemble mean"
   ]
  },
  {
   "cell_type": "code",
   "execution_count": null,
   "metadata": {},
   "outputs": [],
   "source": [
    "# Calculate ensemble means\n",
    "U10_seas_ens_mean_le = U10_seas_le.mean(dim='member_id')\n",
    "U10_seas_ens_mean_rufmod = U10_seas_rufmod.mean(dim='member_id')"
   ]
  },
  {
   "cell_type": "markdown",
   "metadata": {},
   "source": [
    "#### Plot ensemble means for first 5 years only"
   ]
  },
  {
   "cell_type": "code",
   "execution_count": null,
   "metadata": {},
   "outputs": [],
   "source": [
    "# calculate mean state for first 5 years only\n",
    "# Seasonal and 2015-2019 only to show \"initial\" difference in winds\n",
    "\n",
    "yy_st = 2015\n",
    "yy_ed = 2020\n",
    "yy = list(range(yy_st,yy_ed,1))"
   ]
  },
  {
   "cell_type": "code",
   "execution_count": null,
   "metadata": {},
   "outputs": [],
   "source": [
    "avg_le = U10_seas_ens_mean_le.isel(time=U10_seas_ens_mean_le.time.isin([yy])).mean(dim='time')\n",
    "avg_rufmod = U10_seas_ens_mean_rufmod.isel(time=U10_seas_ens_mean_rufmod.time.isin([yy])).mean(dim='time')\n",
    "#avg_rufmod = U10_seas_ens_mean_rufmod.isel(time=[0,1,2,3,4]).mean(dim='time')"
   ]
  },
  {
   "cell_type": "code",
   "execution_count": null,
   "metadata": {},
   "outputs": [],
   "source": [
    "# assign lat/lon again so we don't get a weird difference\n",
    "avg_rufmod['lat'] = avg_le.lat.values\n",
    "avg_rufmod['lon'] = avg_le.lon.values\n",
    "\n",
    "diff = avg_rufmod - avg_le"
   ]
  },
  {
   "cell_type": "code",
   "execution_count": null,
   "metadata": {},
   "outputs": [],
   "source": [
    "# make circular boundary for polar stereographic circular plots\n",
    "theta = np.linspace(0, 2*np.pi, 100)\n",
    "center, radius = [0.5, 0.5], 0.5\n",
    "verts = np.vstack([np.sin(theta), np.cos(theta)]).T\n",
    "circle = mpath.Path(verts * radius + center)"
   ]
  },
  {
   "cell_type": "code",
   "execution_count": null,
   "metadata": {},
   "outputs": [],
   "source": [
    "# set some info for output\n",
    "longname = U10_masked_le.long_name\n",
    "units = U10_masked_le.units"
   ]
  },
  {
   "cell_type": "code",
   "execution_count": null,
   "metadata": {},
   "outputs": [],
   "source": [
    "# add cyclic points\n",
    "avg_le = gvutil.xr_add_cyclic_longitudes(avg_le,\"lon\")\n",
    "avg_rufmod = gvutil.xr_add_cyclic_longitudes(avg_rufmod,\"lon\")\n",
    "diff = gvutil.xr_add_cyclic_longitudes(diff,\"lon\")"
   ]
  },
  {
   "cell_type": "code",
   "execution_count": null,
   "metadata": {},
   "outputs": [],
   "source": [
    "#Plot each season and difference\n",
    "vmax_in = 10\n",
    "vmin_in = 0\n",
    "cmap_in = plt.cm.get_cmap('viridis')\n",
    "vmax_diff = 2\n",
    "vmin_diff = -2\n",
    "cmap_diff = plt.cm.get_cmap('seismic')\n",
    "\n",
    "#for ss in season_names[0:1]:\n",
    "for ss in season_names:\n",
    "    print('Plotting spatial means for '+ss)\n",
    "    if ss == 'OND':\n",
    "        count = 0\n",
    "    else: \n",
    "        count = count+1\n",
    "    #print(count)\n",
    "    # create figure\n",
    "    fig = plt.figure(figsize=(20,20))\n",
    "    fout = 'cesm2_le_and_rufmod_'+var_in_1+'_difference_2015-2019_'+ss\n",
    "    title = ss+' U10 over sea ice - 2015-2019'\n",
    "    \n",
    "    # grab data we want to plot and add cyclic point\n",
    "    temp_le = avg_le[count,:,:]\n",
    "    temp_rufmod = avg_rufmod[count,:,:]\n",
    "    temp_diff = diff[count,:,:]    \n",
    "\n",
    "    # Make subplots - note it's nrow x ncol x index (starting upper left)\n",
    "    # First subplot: CESM2-LE\n",
    "    ax = fig.add_subplot(1,3,1, projection=ccrs.NorthPolarStereo())\n",
    "    ax.add_feature(cfeature.LAND,zorder=100,edgecolor='k')\n",
    "    ax.set_boundary(circle, transform=ax.transAxes)\n",
    "    ax.set_extent([0.005, 360, 90, 65], crs=ccrs.PlateCarree())\n",
    "    this=ax.pcolormesh(temp_le.lon,temp_le.lat,\n",
    "                       temp_le,\n",
    "                       cmap=cmap_in,vmax=vmax_in,vmin=vmin_in,\n",
    "                       transform=ccrs.PlateCarree())\n",
    "    plt.colorbar(this,orientation='horizontal',label=units,fraction=0.04,pad=0.01)\n",
    "    plt.title('CESM2-LE',fontsize=20)\n",
    "    # Second subplot: Rufmod aka SMOOTH\n",
    "    ax = fig.add_subplot(1,3,2, projection=ccrs.NorthPolarStereo())\n",
    "    ax.add_feature(cfeature.LAND,zorder=100,edgecolor='k')\n",
    "    ax.set_boundary(circle, transform=ax.transAxes)\n",
    "    ax.set_extent([0.005, 360, 90, 65], crs=ccrs.PlateCarree())\n",
    "    this=ax.pcolormesh(temp_rufmod.lon,temp_rufmod.lat,\n",
    "                       temp_rufmod,\n",
    "                       cmap=cmap_in,vmax=vmax_in,vmin=vmin_in,\n",
    "                       transform=ccrs.PlateCarree())\n",
    "    plt.colorbar(this,orientation='horizontal',label=units,fraction=0.04,pad=0.01)\n",
    "    plt.title('SMOOTH',fontsize=20)\n",
    "    # First subplot: CESM2-LE\n",
    "    ax = fig.add_subplot(1,3,3, projection=ccrs.NorthPolarStereo())\n",
    "    ax.add_feature(cfeature.LAND,zorder=100,edgecolor='k')\n",
    "    ax.set_boundary(circle, transform=ax.transAxes)\n",
    "    ax.set_extent([0.005, 360, 90, 65], crs=ccrs.PlateCarree())\n",
    "    this=ax.pcolormesh(temp_le.lon,temp_le.lat,\n",
    "                       temp_diff,\n",
    "                       cmap=cmap_diff,vmax=vmax_diff,vmin=vmin_diff,\n",
    "                       transform=ccrs.PlateCarree())\n",
    "    plt.colorbar(this,orientation='horizontal',label=units,fraction=0.04,pad=0.01)\n",
    "    plt.title('Difference(rufmod-cesm2le)',fontsize=20)\n",
    "    \n",
    "    # Finalize figure and save\n",
    "    fig.suptitle(title,fontsize=15, y=0.75)  \n",
    "    fig.subplots_adjust(bottom=0.45,wspace=0.1)\n",
    "    #fig = plt.savefig(fout+'.png', bbox_inches='tight', dpi=200)    "
   ]
  },
  {
   "cell_type": "markdown",
   "metadata": {},
   "source": [
    "#### Now calculate the linear trend at each point\n",
    "\n",
    "* Want array like this: slope_rufmod = 4(nseas)x22(nlat)x288(nlon)\n",
    "* Keep slope, r2, and pvalues --> Use pvalue for stippling\n",
    "* Then plot spatial plots by season of the trends at each point and difference."
   ]
  },
  {
   "cell_type": "code",
   "execution_count": null,
   "metadata": {},
   "outputs": [],
   "source": [
    "# define some functions from Liz Maroon\n",
    "# These allow us to do a linear regression at all points\n",
    "\n",
    "def pvalue_array(x,y,dname):\n",
    "    x_an=x-x.mean(dname)\n",
    "    slope=((x_an)*(y-y.mean(dname))).sum(dname)/((x_an)*(x_an)).sum(dname)\n",
    "    interc=y.mean(dname)-slope*x.mean(dname)\n",
    "    ypred=slope*x+interc  \n",
    "    n=len(x[dname])\n",
    "    mse=np.sqrt(((y-ypred)**2).sum(dname)/(n-2))\n",
    "    xsq=np.sqrt(((x_an)**2).sum(dname))\n",
    "    standerr=mse/xsq\n",
    "    pval=2*(1-t.cdf(np.abs(slope/standerr),n-2))\n",
    "    pval=xr.DataArray(pval,dims=standerr.dims,coords=standerr.coords)\n",
    "    return pval\n",
    "\n",
    "def rvalue_array(x,y,dname):  \n",
    "    xmean=x.mean(dname)\n",
    "    ymean=y.mean(dname)\n",
    "    numer=(x*y).mean(dname)-xmean*ymean\n",
    "    denom=np.sqrt(((x**2).mean(dname)-xmean**2)*\\\n",
    "                  (((y**2).mean(dname))-(ymean**2)))\n",
    "    return numer/denom\n",
    "\n",
    "def regcoeff_array(x,y,dname):\n",
    "    x_an=x-x.mean(dname)\n",
    "    y_an=y-y.mean(dname)\n",
    "    slope=(x_an*y_an).sum(dname)/(x_an*x_an).sum(dname)\n",
    "    return slope\n"
   ]
  },
  {
   "cell_type": "code",
   "execution_count": null,
   "metadata": {},
   "outputs": [],
   "source": [
    "# test this with Liz's functions\n",
    "tseries = xarr_le\n",
    "# grab first season only\n",
    "spatial = U10_seas_ens_mean_le[0,:,:,:]\n",
    "# set time coordinate arrays to be equal\n",
    "tseries['time'] = spatial.time\n",
    "# calculate stats\n",
    "regcoeff=regcoeff_array(tseries,spatial,'time')\n",
    "rvalues=rvalue_array(tseries,spatial,'time')\n",
    "pvalues=pvalue_array(tseries,spatial,'time')\n",
    "# plot return\n",
    "regcoeff.plot()"
   ]
  },
  {
   "cell_type": "code",
   "execution_count": null,
   "metadata": {},
   "outputs": [],
   "source": [
    "# Loop through the seasons to calculate regressions for full period\n",
    "ind_st = 5\n",
    "ind_ed = 85\n",
    "\n",
    "# set units\n",
    "units = '(m/s)'\n",
    "\n",
    "# set significance level (0.05 --> 95%; 0.01 --> 99%)\n",
    "sigval = 0.01\n",
    "\n",
    "#Plot each season and percent difference\n",
    "levels_in = np.arange(-0.2,0.25,0.05)\n",
    "cmap_in = plt.cm.get_cmap('coolwarm')\n",
    "levels_diff = np.arange(-70,80,10)\n",
    "#levels_diff = np.arange(-100,110,10)\n",
    "cmap_diff = plt.cm.get_cmap('bwr')\n",
    "\n",
    "#for ss in season_names[0:1]:\n",
    "for ss in season_names:\n",
    "    print('Calculating regressions for '+ss)\n",
    "    if ss == 'OND':\n",
    "        count = 0\n",
    "    else: \n",
    "        count = count+1\n",
    "    #print(count)\n",
    "\n",
    "    # grab data we want to regress\n",
    "    tseries = xarr_le[ind_st:ind_ed]\n",
    "    spatial_le = U10_seas_ens_mean_le[count,ind_st:ind_ed,:,:]\n",
    "    spatial_rufmod = U10_seas_ens_mean_rufmod[count,ind_st:ind_ed,:,:]\n",
    "    # set time coordinate arrays to be equal\n",
    "    spatial_rufmod['time'] = spatial_le.time\n",
    "    tseries['time'] = spatial_le.time\n",
    "\n",
    "    # Calculate CESM2-LE regressions (and convert to by decade)\n",
    "    regcoeff_le=10*regcoeff_array(tseries,spatial_le,'time')\n",
    "    rvalues_le=rvalue_array(tseries,spatial_le,'time')\n",
    "    pvalues_le=pvalue_array(tseries,spatial_le,'time')\n",
    "    regcoeff_le_masked = regcoeff_le.where(pvalues_le < sigval)\n",
    "\n",
    "    # Calculate rufmod regressions\n",
    "    regcoeff_rufmod=10*regcoeff_array(tseries,spatial_rufmod,'time')\n",
    "    rvalues_rufmod=rvalue_array(tseries,spatial_rufmod,'time')\n",
    "    pvalues_rufmod=pvalue_array(tseries,spatial_rufmod,'time')\n",
    "    regcoeff_rufmod_masked = regcoeff_rufmod.where(pvalues_rufmod < sigval)\n",
    "\n",
    "    # calculate difference - need to also set coordinates to be equal\n",
    "    regcoeff_rufmod_masked['lat'] = regcoeff_le_masked.lat.values\n",
    "    regcoeff_rufmod_masked['lon'] = regcoeff_le_masked.lon.values\n",
    "    diff = 100*((regcoeff_rufmod - regcoeff_le)/regcoeff_le)\n",
    "    diff = 100*((regcoeff_rufmod_masked - regcoeff_le_masked)/regcoeff_le_masked)\n",
    "        \n",
    "    # add cyclic point\n",
    "    regcoeff_le = gvutil.xr_add_cyclic_longitudes(regcoeff_le,\"lon\")\n",
    "    regcoeff_le_masked = gvutil.xr_add_cyclic_longitudes(regcoeff_le_masked,\"lon\")\n",
    "    regcoeff_rufmod = gvutil.xr_add_cyclic_longitudes(regcoeff_rufmod,\"lon\")    \n",
    "    regcoeff_rufmod_masked = gvutil.xr_add_cyclic_longitudes(regcoeff_rufmod_masked,\"lon\")\n",
    "    pvalues_le = gvutil.xr_add_cyclic_longitudes(pvalues_le,\"lon\")\n",
    "    pvalues_rufmod = gvutil.xr_add_cyclic_longitudes(pvalues_rufmod,\"lon\") \n",
    "    diff = gvutil.xr_add_cyclic_longitudes(diff,\"lon\")\n",
    "    \n",
    "    # create figure\n",
    "    fig = plt.figure(figsize=(20,20))\n",
    "    fout = 'cesm2_le_and_rufmod_'+var_in_1+'_trends_2020_2100_'+ss\n",
    "    title = ss+' U10 trend over sea ice - 2020-2100'\n",
    "     \n",
    "    # Make subplots - note it's nrow x ncol x index (starting upper left)\n",
    "    # First subplot: CESM2-LE\n",
    "    ax = fig.add_subplot(1,3,1, projection=ccrs.NorthPolarStereo())\n",
    "    ax.add_feature(cfeature.LAND,zorder=100,edgecolor='k')\n",
    "    ax.set_boundary(circle, transform=ax.transAxes)\n",
    "    ax.set_extent([0.005, 360, 90, 65], crs=ccrs.PlateCarree())\n",
    "    this=ax.contourf(regcoeff_le.lon,regcoeff_le.lat,\n",
    "                       regcoeff_le,\n",
    "                       cmap=cmap_in,levels=levels_in,extend='both',\n",
    "                       transform=ccrs.PlateCarree())\n",
    "    # add contour lines and labels\n",
    "    this2=ax.contour(regcoeff_le.lon,regcoeff_le.lat,\n",
    "                       regcoeff_le,\n",
    "                       colors='black',linestyles='solid',levels=levels_in,\n",
    "                       transform=ccrs.PlateCarree())\n",
    "    plt.gca().clabel(this2,this2.levels, inline=True, fontsize=10, colors='black')\n",
    "    # add significance overlay\n",
    "    sig = ax.pcolor(pvalues_le.lon,pvalues_le.lat,\n",
    "                       pvalues_le.where(pvalues_le > sigval),\n",
    "                       alpha=0, hatch='xx',\n",
    "                       transform=ccrs.PlateCarree())    \n",
    "    plt.gca().clabel(this2,this2.levels, inline=True, fontsize=10, colors='black')\n",
    "    cbar = plt.colorbar(this,orientation='horizontal',fraction=0.04,pad=0.01)\n",
    "    cbar.ax.tick_params(labelsize=15, labelrotation=45)\n",
    "    cbar.ax.set_xlabel(units+'/decade', fontsize=15)\n",
    "    plt.title('CESM2-LE',fontsize=20)\n",
    "\n",
    "    # Second subplot: Rufmod aka SMOOTH\n",
    "    ax = fig.add_subplot(1,3,2, projection=ccrs.NorthPolarStereo())\n",
    "    ax.add_feature(cfeature.LAND,zorder=100,edgecolor='k')\n",
    "    ax.set_boundary(circle, transform=ax.transAxes)\n",
    "    ax.set_extent([0.005, 360, 90, 65], crs=ccrs.PlateCarree())\n",
    "    this=ax.contourf(regcoeff_rufmod.lon,regcoeff_rufmod.lat,\n",
    "                       regcoeff_rufmod,\n",
    "                       cmap=cmap_in,levels=levels_in,extend='both',\n",
    "                       transform=ccrs.PlateCarree())\n",
    "    # add contour lines and labels\n",
    "    this2=ax.contour(regcoeff_rufmod.lon,regcoeff_rufmod.lat,\n",
    "                       regcoeff_rufmod,\n",
    "                       colors='black',linestyles='solid',levels=levels_in,\n",
    "                       transform=ccrs.PlateCarree())\n",
    "    plt.gca().clabel(this2,this2.levels, inline=True, fontsize=10, colors='black')\n",
    "    # add significance overlay\n",
    "    sig = ax.pcolor(pvalues_rufmod.lon,pvalues_rufmod.lat,\n",
    "                       pvalues_rufmod.where(pvalues_rufmod > sigval),\n",
    "                       alpha=0, hatch='xx',\n",
    "                       transform=ccrs.PlateCarree())    \n",
    "    plt.gca().clabel(this2,this2.levels, inline=True, fontsize=10, colors='black')\n",
    "    cbar = plt.colorbar(this,orientation='horizontal',fraction=0.04,pad=0.01)\n",
    "    cbar.ax.tick_params(labelsize=15, labelrotation=45)\n",
    "    cbar.ax.set_xlabel(units+'/decade', fontsize=15)\n",
    "    plt.title('SMOOTH',fontsize=20)\n",
    "    \n",
    "    # Third subplot: %difference\n",
    "    ax = fig.add_subplot(1,3,3, projection=ccrs.NorthPolarStereo())\n",
    "    ax.add_feature(cfeature.LAND,zorder=100,edgecolor='k')\n",
    "    ax.set_boundary(circle, transform=ax.transAxes)\n",
    "    ax.set_extent([0.005, 360, 90, 65], crs=ccrs.PlateCarree())\n",
    "    this=ax.contourf(diff.lon,diff.lat,\n",
    "                       diff,\n",
    "                       cmap=cmap_diff,levels=levels_diff,extend='both',\n",
    "                       transform=ccrs.PlateCarree())\n",
    "    # add contour lines and labels\n",
    "    this2=ax.contour(diff.lon,diff.lat,\n",
    "                       diff,\n",
    "                       colors='black',linestyles='solid',levels=levels_diff,\n",
    "                       transform=ccrs.PlateCarree())    \n",
    "    plt.gca().clabel(this2,this2.levels[::2], inline=True, fontsize=10, colors='black') \n",
    "    #print(this2.levels[::2]) # or [3:14] or [2::2]\n",
    "    \n",
    "    cbar = plt.colorbar(this,orientation='horizontal',fraction=0.04,pad=0.01)\n",
    "    cbar.ax.tick_params(labelsize=15, labelrotation=45)\n",
    "    cbar.ax.set_xlabel('% difference', fontsize=15)\n",
    "    plt.title('% Difference from CESM2-LE',fontsize=20)\n",
    "    \n",
    "    # Finalize figure and save\n",
    "    fig.suptitle(title,fontsize=15, y=0.75)  \n",
    "    fig.subplots_adjust(bottom=0.45,wspace=0.1)\n",
    "    #fig = plt.savefig(fout+'.png', bbox_inches='tight', dpi=200)  \n",
    "    "
   ]
  },
  {
   "cell_type": "code",
   "execution_count": null,
   "metadata": {},
   "outputs": [],
   "source": [
    "# Loop through the seasons to calculate regressions for full period\n",
    "ind_st = 5\n",
    "ind_ed = 85\n",
    "\n",
    "# set units\n",
    "units = '(m/s)'\n",
    "\n",
    "# set significance level (0.05 --> 95%; 0.01 --> 99%)\n",
    "sigval = 0.01\n",
    "\n",
    "#Plot each season and percent difference\n",
    "levels_in = np.arange(-0.2,0.25,0.05)\n",
    "cmap_in = plt.cm.get_cmap('coolwarm')\n",
    "levels_diff = np.arange(-70,80,10)\n",
    "#levels_diff = np.arange(-100,110,10)\n",
    "cmap_diff = plt.cm.get_cmap('bwr')\n",
    "\n",
    "#for ss in season_names[0:1]:\n",
    "for ss in season_names:\n",
    "    print('Calculating regressions for '+ss)\n",
    "    if ss == 'OND':\n",
    "        count = 0\n",
    "    else: \n",
    "        count = count+1\n",
    "    #print(count)\n",
    "\n",
    "    # grab data we want to regress\n",
    "    tseries = xarr_le[ind_st:ind_ed]\n",
    "    spatial_le = U10_seas_ens_mean_le[count,ind_st:ind_ed,:,:]\n",
    "    spatial_rufmod = U10_seas_ens_mean_rufmod[count,ind_st:ind_ed,:,:]\n",
    "    # set time coordinate arrays to be equal\n",
    "    spatial_rufmod['time'] = spatial_le.time\n",
    "    tseries['time'] = spatial_le.time\n",
    "\n",
    "    # Calculate CESM2-LE regressions (and convert to by decade)\n",
    "    regcoeff_le=10*regcoeff_array(tseries,spatial_le,'time')\n",
    "    rvalues_le=rvalue_array(tseries,spatial_le,'time')\n",
    "    pvalues_le=pvalue_array(tseries,spatial_le,'time')\n",
    "    regcoeff_le_masked = regcoeff_le.where(pvalues_le < sigval)\n",
    "\n",
    "    # Calculate rufmod regressions\n",
    "    regcoeff_rufmod=10*regcoeff_array(tseries,spatial_rufmod,'time')\n",
    "    rvalues_rufmod=rvalue_array(tseries,spatial_rufmod,'time')\n",
    "    pvalues_rufmod=pvalue_array(tseries,spatial_rufmod,'time')\n",
    "    regcoeff_rufmod_masked = regcoeff_rufmod.where(pvalues_rufmod < sigval)\n",
    "\n",
    "    # calculate difference - need to also set coordinates to be equal\n",
    "    regcoeff_rufmod_masked['lat'] = regcoeff_le_masked.lat.values\n",
    "    regcoeff_rufmod_masked['lon'] = regcoeff_le_masked.lon.values\n",
    "    diff = 100*((regcoeff_rufmod - regcoeff_le)/regcoeff_le)\n",
    "    diff = 100*((regcoeff_rufmod_masked - regcoeff_le_masked)/regcoeff_le_masked)\n",
    "        \n",
    "    # add cyclic point\n",
    "    regcoeff_le = gvutil.xr_add_cyclic_longitudes(regcoeff_le,\"lon\")\n",
    "    regcoeff_le_masked = gvutil.xr_add_cyclic_longitudes(regcoeff_le_masked,\"lon\")\n",
    "    regcoeff_rufmod = gvutil.xr_add_cyclic_longitudes(regcoeff_rufmod,\"lon\")    \n",
    "    regcoeff_rufmod_masked = gvutil.xr_add_cyclic_longitudes(regcoeff_rufmod_masked,\"lon\")\n",
    "    pvalues_le = gvutil.xr_add_cyclic_longitudes(pvalues_le,\"lon\")\n",
    "    pvalues_rufmod = gvutil.xr_add_cyclic_longitudes(pvalues_rufmod,\"lon\") \n",
    "    diff = gvutil.xr_add_cyclic_longitudes(diff,\"lon\")\n",
    "    \n",
    "    # create figure\n",
    "    fig = plt.figure(figsize=(20,20))\n",
    "    fout = 'cesm2_le_and_rufmod_'+var_in_1+'_trends_2020_2100_'+ss\n",
    "    title = ss+' U10 trend over sea ice - 2020-2100'\n",
    "     \n",
    "    # Make subplots - note it's nrow x ncol x index (starting upper left)\n",
    "    # First subplot: CESM2-LE\n",
    "    ax = fig.add_subplot(1,3,1, projection=ccrs.NorthPolarStereo())\n",
    "    ax.add_feature(cfeature.LAND,zorder=100,edgecolor='k')\n",
    "    ax.set_boundary(circle, transform=ax.transAxes)\n",
    "    ax.set_extent([0.005, 360, 90, 65], crs=ccrs.PlateCarree())\n",
    "    this=ax.contourf(regcoeff_le.lon,regcoeff_le.lat,\n",
    "                       regcoeff_le,\n",
    "                       cmap=cmap_in,levels=levels_in,extend='both',\n",
    "                       transform=ccrs.PlateCarree())\n",
    "    # add significance overlay\n",
    "    sig = ax.pcolor(pvalues_le.lon,pvalues_le.lat,\n",
    "                       pvalues_le.where(pvalues_le > sigval),\n",
    "                       alpha=0, hatch='xx',\n",
    "                       transform=ccrs.PlateCarree())    \n",
    "    plt.gca().clabel(this2,this2.levels, inline=True, fontsize=10, colors='black')\n",
    "    cbar = plt.colorbar(this,orientation='horizontal',fraction=0.04,pad=0.01)\n",
    "    cbar.ax.tick_params(labelsize=15, labelrotation=45)\n",
    "    cbar.ax.set_xlabel(units+'/decade', fontsize=15)\n",
    "    plt.title('CESM2-LE',fontsize=20)\n",
    "\n",
    "    # Second subplot: Rufmod aka SMOOTH\n",
    "    ax = fig.add_subplot(1,3,2, projection=ccrs.NorthPolarStereo())\n",
    "    ax.add_feature(cfeature.LAND,zorder=100,edgecolor='k')\n",
    "    ax.set_boundary(circle, transform=ax.transAxes)\n",
    "    ax.set_extent([0.005, 360, 90, 65], crs=ccrs.PlateCarree())\n",
    "    this=ax.contourf(regcoeff_rufmod.lon,regcoeff_rufmod.lat,\n",
    "                       regcoeff_rufmod,\n",
    "                       cmap=cmap_in,levels=levels_in,extend='both',\n",
    "                       transform=ccrs.PlateCarree())\n",
    "    # add significance overlay\n",
    "    sig = ax.pcolor(pvalues_rufmod.lon,pvalues_rufmod.lat,\n",
    "                       pvalues_rufmod.where(pvalues_rufmod > sigval),\n",
    "                       alpha=0, hatch='xx',\n",
    "                       transform=ccrs.PlateCarree())    \n",
    "    plt.gca().clabel(this2,this2.levels, inline=True, fontsize=10, colors='black')\n",
    "    cbar = plt.colorbar(this,orientation='horizontal',fraction=0.04,pad=0.01)\n",
    "    cbar.ax.tick_params(labelsize=15, labelrotation=45)\n",
    "    cbar.ax.set_xlabel(units+'/decade', fontsize=15)\n",
    "    plt.title('SMOOTH',fontsize=20)\n",
    "    \n",
    "    # Third subplot: %difference\n",
    "    ax = fig.add_subplot(1,3,3, projection=ccrs.NorthPolarStereo())\n",
    "    ax.add_feature(cfeature.LAND,zorder=100,edgecolor='k')\n",
    "    ax.set_boundary(circle, transform=ax.transAxes)\n",
    "    ax.set_extent([0.005, 360, 90, 65], crs=ccrs.PlateCarree())\n",
    "    this=ax.contourf(diff.lon,diff.lat,\n",
    "                       diff,\n",
    "                       cmap=cmap_diff,levels=levels_diff,extend='both',\n",
    "                       transform=ccrs.PlateCarree())\n",
    "    cbar = plt.colorbar(this,orientation='horizontal',fraction=0.04,pad=0.01)\n",
    "    cbar.ax.tick_params(labelsize=15, labelrotation=45)\n",
    "    cbar.ax.set_xlabel('% difference', fontsize=15)\n",
    "    plt.title('% Difference from CESM2-LE',fontsize=20)\n",
    "    \n",
    "    # Finalize figure and save\n",
    "    fig.suptitle(title,fontsize=15, y=0.75)  \n",
    "    fig.subplots_adjust(bottom=0.45,wspace=0.1)\n",
    "    fig = plt.savefig(fout+'.png', bbox_inches='tight', dpi=200)  \n",
    "    "
   ]
  },
  {
   "cell_type": "code",
   "execution_count": null,
   "metadata": {},
   "outputs": [],
   "source": []
  }
 ],
 "metadata": {
  "kernelspec": {
   "display_name": "Python [conda env:miniconda3-antarctica_som_env]",
   "language": "python",
   "name": "conda-env-miniconda3-antarctica_som_env-py"
  },
  "language_info": {
   "codemirror_mode": {
    "name": "ipython",
    "version": 3
   },
   "file_extension": ".py",
   "mimetype": "text/x-python",
   "name": "python",
   "nbconvert_exporter": "python",
   "pygments_lexer": "ipython3",
   "version": "3.7.10"
  }
 },
 "nbformat": 4,
 "nbformat_minor": 4
}
