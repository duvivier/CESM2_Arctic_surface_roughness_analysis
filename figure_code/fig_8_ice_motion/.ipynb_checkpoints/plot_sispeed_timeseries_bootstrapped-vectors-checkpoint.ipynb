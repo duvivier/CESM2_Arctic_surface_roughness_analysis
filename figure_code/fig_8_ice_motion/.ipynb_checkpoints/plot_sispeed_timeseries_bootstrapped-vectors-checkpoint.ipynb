{
 "cells": [
  {
   "cell_type": "markdown",
   "metadata": {},
   "source": [
    "# Plotting timeseries of Arctic ice speeds\n",
    "\n",
    "* **Description**: Plots historical and future timeseries by month and region\n",
    "* **Input data**: Processed rufmod and cesm2-le regional total netcdf files\n",
    "* **Output data**: Timeseries plots in png format\n",
    "* **Creator**: Alice DuVivier\n",
    "* **Date**: January 2022"
   ]
  },
  {
   "cell_type": "code",
   "execution_count": null,
   "metadata": {},
   "outputs": [],
   "source": [
    "import xarray as xr\n",
    "import numpy as np\n",
    "import matplotlib.pyplot as plt\n",
    "import pop_tools\n",
    "from datetime import timedelta\n",
    "import glob\n",
    "import dask\n",
    "from matplotlib.gridspec import GridSpec\n",
    "import pandas as pd\n"
   ]
  },
  {
   "cell_type": "markdown",
   "metadata": {},
   "source": [
    "## Read in the processed data\n",
    "\n",
    "This reads in pre-processed regional ice sped for the Arctic."
   ]
  },
  {
   "cell_type": "code",
   "execution_count": null,
   "metadata": {},
   "outputs": [],
   "source": [
    "# list the variables to load\n",
    "var_in = 'sispeed'"
   ]
  },
  {
   "cell_type": "code",
   "execution_count": null,
   "metadata": {},
   "outputs": [],
   "source": [
    "# set base directory where all data live\n",
    "data_dir = '/glade/p/cgd/ppc/duvivier/cesm2_arctic_cyclones/DATA/regional_timeseries/'\n",
    "\n",
    "# set file names\n",
    "fin_le = 'CESM2-LE_all_transient_regional_avg_'+var_in\n",
    "fin_rufmod = 'rufmod_all_transient_regional_avg_'+var_in"
   ]
  },
  {
   "cell_type": "code",
   "execution_count": null,
   "metadata": {},
   "outputs": [],
   "source": [
    "months = [1, 2, 3, 4, 5, 6, 7, 8, 9, 10, 11, 12]\n",
    "month_names = ['Jan', 'Feb', 'Mar', 'Apr', 'May', 'Jun', 'Jul', 'Aug', 'Sep', 'Oct', 'Nov', 'Dec']\n",
    "len(month_names)"
   ]
  },
  {
   "cell_type": "code",
   "execution_count": null,
   "metadata": {},
   "outputs": [],
   "source": [
    "ds_le = xr.open_dataset(data_dir+fin_le+'.nc',decode_times=True)\n",
    "ds_rufmod = xr.open_dataset(data_dir+fin_rufmod+'.nc',decode_times=True)"
   ]
  },
  {
   "cell_type": "code",
   "execution_count": null,
   "metadata": {},
   "outputs": [],
   "source": [
    "# double check that year/month is not shifted incorrectly\n",
    "ds_le.coords['time.month']\n",
    "ds_rufmod.coords['time.month']"
   ]
  },
  {
   "cell_type": "code",
   "execution_count": null,
   "metadata": {},
   "outputs": [],
   "source": [
    "# check what regions we have totals for\n",
    "ds_le.region\n",
    "\n",
    "# should match...\n",
    "mask_in = ['nh_mask', 'Lab_mask', 'GIN_mask', 'Bar_mask', 'ArcOc_mask', 'Sib_mask', 'Beau_mask', 'Bering_mask', 'Hudson_mask', 'CAArch_mask', 'Okhotsk_mask']"
   ]
  },
  {
   "cell_type": "code",
   "execution_count": null,
   "metadata": {},
   "outputs": [],
   "source": [
    "ds_le"
   ]
  },
  {
   "cell_type": "code",
   "execution_count": null,
   "metadata": {},
   "outputs": [],
   "source": [
    "# just check the data to be sure it's working\n",
    "ds_le['regional_totals'].sel(region='nh_mask',member_id='r1i1001p1f1').plot()"
   ]
  },
  {
   "cell_type": "code",
   "execution_count": null,
   "metadata": {},
   "outputs": [],
   "source": [
    "ds_rufmod"
   ]
  },
  {
   "cell_type": "code",
   "execution_count": null,
   "metadata": {},
   "outputs": [],
   "source": [
    "# just check the data to be sure it's working\n",
    "ds_rufmod['regional_totals'].sel(region='nh_mask',member_id=0).plot()"
   ]
  },
  {
   "cell_type": "code",
   "execution_count": null,
   "metadata": {},
   "outputs": [],
   "source": [
    "print(ds_le.units)\n",
    "print(ds_le.longname)\n",
    "\n",
    "total_le = ds_le['regional_totals']\n",
    "total_rufmod = ds_rufmod['regional_totals']"
   ]
  },
  {
   "cell_type": "code",
   "execution_count": null,
   "metadata": {},
   "outputs": [],
   "source": [
    "# convert to cm/s\n",
    "total_le = total_le*100.\n",
    "total_rufmod = total_rufmod*100.\n",
    "ds_le['units'] = 'cm/s'"
   ]
  },
  {
   "cell_type": "markdown",
   "metadata": {},
   "source": [
    "### Seasonal means"
   ]
  },
  {
   "cell_type": "code",
   "execution_count": null,
   "metadata": {},
   "outputs": [],
   "source": [
    "season_names = ['OND', 'JFM', 'AMJ', 'JAS']\n",
    "season_full = ['Autumn', 'Winter', 'Spring', 'Summer']"
   ]
  },
  {
   "cell_type": "code",
   "execution_count": null,
   "metadata": {},
   "outputs": [],
   "source": [
    "# set x arrays against which to plot\n",
    "xarr_le = total_le.coords['time.year'][(total_le.coords['time.month']==1)]\n",
    "xarr_rufmod = total_rufmod.coords['time.year'][(total_rufmod.coords['time.month']==1)]"
   ]
  },
  {
   "cell_type": "code",
   "execution_count": null,
   "metadata": {},
   "outputs": [],
   "source": [
    "# Loop through seasons - CESM2-LE\n",
    "\n",
    "# make numpy array to fill and specify dimensions we want\n",
    "seas_array_le = np.zeros([len(season_names),len(xarr_le),len(total_le.member_id),len(ds_le.region)])\n",
    "\n",
    "for ss in season_names:\n",
    "    print(ss)\n",
    "    if ss == 'OND':\n",
    "        s_count = 0\n",
    "    else: \n",
    "        s_count = s_count+1\n",
    "    # get temporary array of just these month by season\n",
    "    if ss == 'JFM':\n",
    "        temp1 = total_le.isel(time=total_le.time.dt.month.isin([1,2,3]))\n",
    "    if ss == 'AMJ':\n",
    "        temp1 = total_le.isel(time=total_le.time.dt.month.isin([4,5,6]))\n",
    "    if ss == 'JAS':\n",
    "        temp1 = total_le.isel(time=total_le.time.dt.month.isin([7,8,9]))\n",
    "    if ss == 'OND':\n",
    "        temp1 = total_le.isel(time=total_le.time.dt.month.isin([10,11,12]))\n",
    "    # now loop through years to get the seasonal average by year for each ensemble member\n",
    "    for yy in xarr_le:\n",
    "        if yy == 1850:\n",
    "            y_count = 0\n",
    "        else: \n",
    "            y_count = y_count+1 \n",
    "        # select only the indexes for this year\n",
    "        temp2 = temp1.isel(time=temp1.time.dt.year.isin([yy]))\n",
    "        seas_array_le[s_count,y_count,:,:] = temp2.mean(dim='time')"
   ]
  },
  {
   "cell_type": "code",
   "execution_count": null,
   "metadata": {},
   "outputs": [],
   "source": [
    "# Loop through seasons - rufmod\n",
    "\n",
    "# make numpy array to fill and specify dimensions we want\n",
    "seas_array_rufmod = np.zeros([len(season_names),len(xarr_rufmod),len(total_rufmod.member_id),len(ds_rufmod.region)])\n",
    "\n",
    "for ss in season_names:\n",
    "    print(ss)\n",
    "    if ss == 'OND':\n",
    "        s_count = 0\n",
    "    else: \n",
    "        s_count = s_count+1\n",
    "    # get temporary array of just these month by season\n",
    "    if ss == 'JFM':\n",
    "        temp1 = total_rufmod.isel(time=total_rufmod.time.dt.month.isin([1,2,3]))\n",
    "    if ss == 'AMJ':\n",
    "        temp1 = total_rufmod.isel(time=total_rufmod.time.dt.month.isin([4,5,6]))\n",
    "    if ss == 'JAS':\n",
    "        temp1 = total_rufmod.isel(time=total_rufmod.time.dt.month.isin([7,8,9]))\n",
    "    if ss == 'OND':\n",
    "        temp1 = total_rufmod.isel(time=total_rufmod.time.dt.month.isin([10,11,12]))\n",
    "    # now loop through years to get the seasonal average by year for each ensemble member\n",
    "    for yy in xarr_rufmod:\n",
    "        if yy == 1950:\n",
    "            y_count = 0\n",
    "        else: \n",
    "            y_count = y_count+1 \n",
    "        # select only the indexes for this year\n",
    "        temp2 = temp1.isel(time=temp1.time.dt.year.isin([yy]))\n",
    "        seas_array_rufmod[s_count,y_count,:,:] = temp2.mean(dim='time')"
   ]
  },
  {
   "cell_type": "code",
   "execution_count": null,
   "metadata": {},
   "outputs": [],
   "source": [
    "print(seas_array_le.shape)\n",
    "print(seas_array_rufmod.shape)"
   ]
  },
  {
   "cell_type": "code",
   "execution_count": null,
   "metadata": {},
   "outputs": [],
   "source": [
    "# convert the numpy array to a xarray for easier plotting\n",
    "seas_le = xr.DataArray(seas_array_le,dims=('season','year','member_id','region'))\n",
    "seas_rufmod = xr.DataArray(seas_array_rufmod,dims=('season','year','member_id','region'))"
   ]
  },
  {
   "cell_type": "markdown",
   "metadata": {},
   "source": [
    "## Calculate ensemble means and bootstrapped means\n",
    "\n",
    "Bootstrap the CESM2-LE (N=50) to find ensemble means using the same number of members as SMOOTH (N=5)"
   ]
  },
  {
   "cell_type": "code",
   "execution_count": null,
   "metadata": {},
   "outputs": [],
   "source": [
    "# calculate ensemble mean for SMOOTH and CESM2-LE over all members\n",
    "seas_ens_mean_le = seas_le.mean(dim='member_id')\n",
    "seas_ens_mean_rufmod = seas_rufmod.mean(dim='member_id')"
   ]
  },
  {
   "cell_type": "code",
   "execution_count": null,
   "metadata": {},
   "outputs": [],
   "source": [
    "print(seas_ens_mean_le.shape)\n",
    "print(seas_ens_mean_rufmod.shape)"
   ]
  },
  {
   "cell_type": "code",
   "execution_count": null,
   "metadata": {},
   "outputs": [],
   "source": [
    "# bootstrap the CESM2-LE 1000 times\n",
    "n_bs=1000\n",
    "seas_bs_array_le = np.zeros([len(season_names),len(xarr_le),len(ds_le.region),n_bs])\n",
    "\n",
    "for ii in range(n_bs):\n",
    "    # choose random ensemble member numbers\n",
    "    mem1=np.random.choice(range(0,49))\n",
    "    mem2=np.random.choice(range(0,49))\n",
    "    mem3=np.random.choice(range(0,49))\n",
    "    mem4=np.random.choice(range(0,49))\n",
    "    mem5=np.random.choice(range(0,49)) \n",
    "    # now average those random ensembles\n",
    "    temp = np.stack((seas_le.sel(member_id=mem1),seas_le.sel(member_id=mem2),seas_le.sel(member_id=mem3),\n",
    "                     seas_le.sel(member_id=mem4),seas_le.sel(member_id=mem5)),axis=-1)\n",
    "    seas_bs_array_le[:,:,:,ii]=np.mean(temp,axis=3)"
   ]
  },
  {
   "cell_type": "code",
   "execution_count": null,
   "metadata": {},
   "outputs": [],
   "source": [
    "# convert the numpy array to a xarray for easier plotting\n",
    "seas_bs_le = xr.DataArray(seas_bs_array_le,dims=('season','year','region','bootstrap_num'))"
   ]
  },
  {
   "cell_type": "code",
   "execution_count": null,
   "metadata": {},
   "outputs": [],
   "source": [
    "out_tag = var_in\n",
    "label = ds_le.longname\n",
    "units = 'cm/s'# ds_le.units"
   ]
  },
  {
   "cell_type": "markdown",
   "metadata": {},
   "source": [
    "### Plotting!"
   ]
  },
  {
   "cell_type": "code",
   "execution_count": null,
   "metadata": {},
   "outputs": [],
   "source": [
    "print(seas_bs_le.shape)\n",
    "print(seas_ens_mean_rufmod.shape)"
   ]
  },
  {
   "cell_type": "code",
   "execution_count": null,
   "metadata": {},
   "outputs": [],
   "source": [
    "# set xarray dimensions so we can select just nh_mask\n",
    "seas_bs_le['season'] = season_names\n",
    "seas_bs_le['year'] = xarr_le.values\n",
    "seas_bs_le['region'] = ds_le.region\n",
    "\n",
    "seas_ens_mean_le['season'] = season_names\n",
    "seas_ens_mean_le['year'] = xarr_le.values\n",
    "seas_ens_mean_le['region'] = ds_le.region\n",
    "\n",
    "seas_ens_mean_rufmod['season'] = season_names\n",
    "seas_ens_mean_rufmod['year'] = xarr_rufmod.values\n",
    "seas_ens_mean_rufmod['region'] = ds_rufmod.region"
   ]
  },
  {
   "cell_type": "code",
   "execution_count": null,
   "metadata": {},
   "outputs": [],
   "source": [
    "# Plot bootstrapped means\n",
    "\n",
    "# create figure\n",
    "fig = plt.figure(figsize=(40,10))\n",
    "# now loop through months to create subpanels\n",
    "fout = 'average_'+out_tag+'_70-90N_seasonal'\n",
    "\n",
    "for ss in season_names:\n",
    "    #print(ss)\n",
    "    if ss == 'OND':\n",
    "        count = 0\n",
    "    else: \n",
    "        count = count+1        \n",
    "        \n",
    "    # CESM2-LE: subset the data\n",
    "    data_temp_le = seas_bs_le.sel(region='nh_mask',season=ss)\n",
    "    mean_le = seas_ens_mean_le.sel(region='nh_mask',season=ss)\n",
    "    # rufmod: subset the data\n",
    "    mean_rufmod = seas_ens_mean_rufmod.sel(region='nh_mask',season=ss)\n",
    "\n",
    "    # Make subplot - note it's nrow x ncol x index (starting upper left)\n",
    "    ax = fig.add_subplot(1,4,count+1)\n",
    "    # plot the bootstrapped means\n",
    "    for ii in range(n_bs):\n",
    "        ax.plot(xarr_le,data_temp_le[:,ii],color=\"lightgrey\",linestyle='-',linewidth=2,label='_nolegend_');\n",
    "    ax.plot(xarr_le,data_temp_le[:,ii],color=\"lightgrey\",linestyle='-',linewidth=2,label='CESM2-LE ensemble means (n=5)')\n",
    "    ax.plot(xarr_le,mean_le,label=\"SMOOTH ensemble mean (n=50)\",color='black',linestyle='-',linewidth=2)\n",
    "    ax.plot(xarr_rufmod,mean_rufmod,label=\"SMOOTH ensemble mean (n=5)\",color='blue',linestyle='-',linewidth=2)\n",
    "    \n",
    "    plt.title(season_full[count]+' ('+ss+')',fontsize=15)\n",
    "    plt.xlabel('year',fontsize=15)\n",
    "    plt.xticks(fontsize=15)\n",
    "    plt.xlim([2020,2100])\n",
    "    plt.ylabel(units,fontsize=15)\n",
    "    plt.yticks(fontsize=15)\n",
    "    #plt.ylim([0,0.14])\n",
    "    plt.legend(loc='lower left', fontsize=15)\n",
    "    \n",
    "# Finalize figure and save\n",
    "fig.suptitle('Average '+label+' over Northern Hemisphere Sea Ice',fontsize=15, y=0.95)  \n",
    "fig.subplots_adjust(wspace=0.15, hspace=0.2)\n",
    "fig = plt.savefig(fout+'.png', bbox_inches='tight', dpi=200)"
   ]
  },
  {
   "cell_type": "code",
   "execution_count": null,
   "metadata": {},
   "outputs": [],
   "source": []
  }
 ],
 "metadata": {
  "kernelspec": {
   "display_name": "Python [conda env:miniconda3-antarctica_som_env]",
   "language": "python",
   "name": "conda-env-miniconda3-antarctica_som_env-py"
  },
  "language_info": {
   "codemirror_mode": {
    "name": "ipython",
    "version": 3
   },
   "file_extension": ".py",
   "mimetype": "text/x-python",
   "name": "python",
   "nbconvert_exporter": "python",
   "pygments_lexer": "ipython3",
   "version": "3.7.10"
  }
 },
 "nbformat": 4,
 "nbformat_minor": 4
}
